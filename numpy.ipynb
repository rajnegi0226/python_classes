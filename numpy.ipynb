{
 "cells": [
  {
   "attachments": {},
   "cell_type": "markdown",
   "metadata": {},
   "source": [
    "**Numpy is a commonly used packg used for scientific computing in Python.It provides a multidim. array obj, as well as variation such as marks and matrices, which can be used for various mathematical operations. It is comatible with other pckgs- matplotlib and pandas"
   ]
  },
  {
   "cell_type": "code",
   "execution_count": 2,
   "metadata": {},
   "outputs": [
    {
     "name": "stdout",
     "output_type": "stream",
     "text": [
      "[1 2 3 4 5 6 7 8]\n",
      "<class 'numpy.ndarray'>\n",
      "6\n"
     ]
    },
    {
     "data": {
      "text/plain": [
       "dtype('int32')"
      ]
     },
     "execution_count": 2,
     "metadata": {},
     "output_type": "execute_result"
    }
   ],
   "source": [
    "import numpy as np\n",
    "array1=np.array([1,2,3,4,5,6,7,8])\n",
    "print(array1)\n",
    "print(type(array1))\n",
    "print(array1[5])\n",
    "array1.dtype"
   ]
  },
  {
   "cell_type": "code",
   "execution_count": 4,
   "metadata": {},
   "outputs": [
    {
     "name": "stdout",
     "output_type": "stream",
     "text": [
      "ORIGINAL MATRIX [[1 2 3 4 5 6]] \n",
      "\n",
      "<class 'numpy.ndarray'>\n",
      "\n",
      " SHAPE OF THE ARRAY IS:-  (1, 6)\n",
      "\n",
      " PRINT UPDATED MATRIX \n",
      " [[1 2 9 4 5 6]]\n"
     ]
    }
   ],
   "source": [
    "array2=np.array([[1,2,3,4,5,6]])        # result is 2D matrices format \n",
    "print(\"ORIGINAL MATRIX\",array2,'\\n')\n",
    "\n",
    "print(type(array2))                             #1  2  3  4  5  6\n",
    "\n",
    "array2.dtype\n",
    "\n",
    "print('\\n',\"SHAPE OF THE ARRAY IS:- \",array2.shape)\n",
    "\n",
    "array2[0,2]=9             # row 0 , col 2 has been assigned a new value = 9\n",
    "\n",
    "print('\\n',\"PRINT UPDATED MATRIX\",'\\n',array2)"
   ]
  },
  {
   "cell_type": "code",
   "execution_count": 5,
   "metadata": {},
   "outputs": [
    {
     "name": "stdout",
     "output_type": "stream",
     "text": [
      "1\n",
      "2\n",
      "9\n",
      "4\n"
     ]
    }
   ],
   "source": [
    "# Since only 1 [] used so it is just row 1\n",
    "print(array2[0,0])           # rep in a manner : row , col\n",
    "print(array2[0,1])\n",
    "print(array2[0,2])\n",
    "print(array2[0,3])"
   ]
  },
  {
   "attachments": {},
   "cell_type": "markdown",
   "metadata": {},
   "source": [
    "***DIFFERENT METHODS TO CONSTRUCT A MATRIX\n",
    "\n",
    "1. PYTHON STRUCTURE - differentiated [] , []\n",
    "2. np.zeros() - creates a mtrix with elem. as 0\n",
    "3. np.identity() - creates a matric as identity elem , diagonal elem =1\n",
    "4. np.empty() - random numbers assigned\n",
    "5. np.empty_like()\n",
    "6. np.arange() - displays the result wrt defined value\n",
    "7. np.linspace(x,y,z) - x= start point ; y= end point ; z= interval in which it is to be divided"
   ]
  },
  {
   "cell_type": "code",
   "execution_count": 6,
   "metadata": {},
   "outputs": [
    {
     "name": "stdout",
     "output_type": "stream",
     "text": [
      "[[1 2 3]\n",
      " [4 5 6]\n",
      " [7 8 9]]\n",
      "\n",
      " SHAPE OF THE ARRAY IS:-  (3, 3)\n",
      "\n",
      " ELEMENTS IN THE ARRAY IS:-  9\n",
      "\n",
      " ACCES THE ELEMENT IN ROW 1 AND COL 2:-  6\n",
      "\n",
      " 1 \n",
      " 2 \n",
      " 3 \n",
      " 4 \n",
      " 5 \n",
      " 6 \n",
      " 7 \n",
      " 8 \n",
      " 9\n"
     ]
    }
   ],
   "source": [
    "# TO CREATE MULTIPLE ROWS use differentiated [] , [] using python structure\n",
    "\n",
    "array3=np.array([[1,2,3],[4,5,6],[7,8,9]])\n",
    "\n",
    "print(array3)\n",
    "print('\\n',\"SHAPE OF THE ARRAY IS:- \",array3.shape)\n",
    "print('\\n',\"ELEMENTS IN THE ARRAY IS:- \",array3.size)\n",
    "print('\\n',\"ACCES THE ELEMENT IN ROW 1 AND COL 2:- \",array3[1,2] )\n",
    "print('\\n',array3[0,0],'\\n',array3[0,1],'\\n',array3[0,2],'\\n',array3[1,0],'\\n',array3[1,1],'\\n',array3[1,2],'\\n',array3[2,0],'\\n',array3[2,1],'\\n',array3[2,2])\n",
    "\n"
   ]
  },
  {
   "cell_type": "code",
   "execution_count": 7,
   "metadata": {},
   "outputs": [
    {
     "name": "stdout",
     "output_type": "stream",
     "text": [
      "[[0. 0. 0. 0. 0. 0.]\n",
      " [0. 0. 0. 0. 0. 0.]\n",
      " [0. 0. 0. 0. 0. 0.]\n",
      " [0. 0. 0. 0. 0. 0.]\n",
      " [0. 0. 0. 0. 0. 0.]] \n",
      " SHAPE OF THE GIVEN MATRIX:-  (5, 6) \n",
      " SIZE OF THE MATRIX:- 30\n"
     ]
    }
   ],
   "source": [
    "# creating arrays with intrinsic numpy array obj\n",
    "# zeros() func - inserts 0 in defined row and col\n",
    "x=np.zeros((5,6))\n",
    "print(x,'\\n',\"SHAPE OF THE GIVEN MATRIX:- \",x.shape,'\\n',\"SIZE OF THE MATRIX:-\",x.size)"
   ]
  },
  {
   "cell_type": "code",
   "execution_count": 8,
   "metadata": {},
   "outputs": [
    {
     "name": "stdout",
     "output_type": "stream",
     "text": [
      "[ 0  1  2  3  4  5  6  7  8  9 10 11 12 13 14 15 16 17 18 19]\n"
     ]
    }
   ],
   "source": [
    "rg = np.arange((20))     # array gets created as per the defined range\n",
    "print(rg)\n",
    "#print(rg[3:6]) - O/P-> values of specified range will be displayed"
   ]
  },
  {
   "cell_type": "code",
   "execution_count": 9,
   "metadata": {},
   "outputs": [
    {
     "name": "stdout",
     "output_type": "stream",
     "text": [
      "[11. 12. 13. 14. 15. 16. 17. 18. 19. 20.]\n",
      "______________________________________________________________________________ \n",
      "\n",
      "[ 1.  2.  3.  4.  5.  6.  7.  8.  9. 10. 11. 12. 13. 14. 15. 16. 17. 18.\n",
      " 19. 20.]\n",
      "______________________________________________________________________________ \n",
      "\n",
      "[ 1.          3.78571429  6.57142857  9.35714286 12.14285714 14.92857143\n",
      " 17.71428571 20.5        23.28571429 26.07142857 28.85714286 31.64285714\n",
      " 34.42857143 37.21428571 40.        ]\n"
     ]
    }
   ],
   "source": [
    "# np.linspace(x,y,z) - x= start point ; y= end point ; z= interval in which it is to be divided\n",
    "lspace = np.linspace(11,20,10)     # divide the interval into 10 equal intervals b/t 11 to 20\n",
    "print(lspace)\n",
    "print(\"______________________________________________________________________________\",'\\n')\n",
    "lspace1 = np.linspace(1,20,20)     # divide the interval into 20 equal intervals b/t 1 to 20\n",
    "print(lspace1)\n",
    "print(\"______________________________________________________________________________\",'\\n')\n",
    "lspace2 = np.linspace(1,40,15)     # divide the interval into 15 equal intervals b/t 1 to 14\n",
    "print(lspace2)"
   ]
  },
  {
   "cell_type": "code",
   "execution_count": 10,
   "metadata": {},
   "outputs": [
    {
     "name": "stdout",
     "output_type": "stream",
     "text": [
      "[[4.67296746e-307 1.69121096e-306 1.95820760e-306 1.33506605e-306]\n",
      " [6.23056330e-307 2.22522597e-306 1.33511969e-306 1.37962320e-306]\n",
      " [9.34604358e-307 9.79101082e-307 1.78020576e-306 1.69119873e-306]\n",
      " [2.22522868e-306 1.24611809e-306 8.06632139e-308 1.60221208e-306]]\n"
     ]
    }
   ],
   "source": [
    "emty=np.empty((4,4))     # O/P: random numbers assigned\n",
    "print(emty)"
   ]
  },
  {
   "cell_type": "code",
   "execution_count": 11,
   "metadata": {},
   "outputs": [
    {
     "name": "stdout",
     "output_type": "stream",
     "text": [
      "[11.         11.64285714 12.28571429 12.92857143 13.57142857 14.21428571\n",
      " 14.85714286 15.5        16.14285714 16.78571429 17.42857143 18.07142857\n",
      " 18.71428571 19.35714286 20.        ]\n",
      "______________________________________________________________________________ \n",
      "\n",
      "[11.         11.64285714 12.28571429 12.92857143 13.57142857 14.21428571\n",
      " 14.85714286 15.5        16.14285714 16.78571429 17.42857143 18.07142857\n",
      " 18.71428571 19.35714286 20.        ]\n"
     ]
    }
   ],
   "source": [
    "lspace = np.linspace(11,20,15)     # divide the interval into 10 equal intervals b/t 11 to 20\n",
    "print(lspace)\n",
    "print(\"______________________________________________________________________________\",'\\n')\n",
    "emty1=np.empty_like(lspace)\n",
    "print(emty1)"
   ]
  },
  {
   "cell_type": "code",
   "execution_count": 12,
   "metadata": {},
   "outputs": [
    {
     "data": {
      "text/plain": [
       "array([[1., 0., 0., 0., 0.],\n",
       "       [0., 1., 0., 0., 0.],\n",
       "       [0., 0., 1., 0., 0.],\n",
       "       [0., 0., 0., 1., 0.],\n",
       "       [0., 0., 0., 0., 1.]])"
      ]
     },
     "execution_count": 12,
     "metadata": {},
     "output_type": "execute_result"
    }
   ],
   "source": [
    "# IDENTITY MATRIX : np.identity() \n",
    "idt=np.identity(5)\n",
    "idt"
   ]
  },
  {
   "cell_type": "code",
   "execution_count": 13,
   "metadata": {},
   "outputs": [
    {
     "name": "stdout",
     "output_type": "stream",
     "text": [
      "[ 0  1  2  3  4  5  6  7  8  9 10 11 12 13 14 15 16 17 18 19]\n",
      "\n",
      " SHAPE OF THE MATRIX IS:-  (20,)\n"
     ]
    }
   ],
   "source": [
    "range1=np.arange((20))\n",
    "print(range1)\n",
    "print('\\n',\"SHAPE OF THE MATRIX IS:- \",range1.shape)"
   ]
  },
  {
   "cell_type": "code",
   "execution_count": 14,
   "metadata": {},
   "outputs": [
    {
     "data": {
      "text/plain": [
       "array([[ 0,  1,  2,  3,  4],\n",
       "       [ 5,  6,  7,  8,  9],\n",
       "       [10, 11, 12, 13, 14],\n",
       "       [15, 16, 17, 18, 19]])"
      ]
     },
     "execution_count": 14,
     "metadata": {},
     "output_type": "execute_result"
    }
   ],
   "source": [
    "range1.reshape(4,5)"
   ]
  },
  {
   "cell_type": "code",
   "execution_count": 15,
   "metadata": {},
   "outputs": [
    {
     "name": "stdout",
     "output_type": "stream",
     "text": [
      "[ 0  1  2  3  4  5  6  7  8  9 10 11 12 13 14 15 16 17 18 19]\n"
     ]
    }
   ],
   "source": [
    "# ravel() - opposite of reshape. It changes the 2D array having row, col to 1D array.\n",
    "range1= range1.ravel()\n",
    "print(range1)"
   ]
  },
  {
   "cell_type": "code",
   "execution_count": 16,
   "metadata": {},
   "outputs": [
    {
     "name": "stdout",
     "output_type": "stream",
     "text": [
      "[ 0  1  2  3  4  5  6  7  8  9 10 11 12 13 14 15 16 17 18 19 20 21 22 23\n",
      " 24 25 26 27 28 29 30 31 32 33 34 35 36 37 38 39 40 41 42 43 44 45 46 47\n",
      " 48 49 50 51 52 53 54 55 56 57 58 59 60 61 62 63 64 65 66 67 68 69 70 71\n",
      " 72 73 74 75 76 77 78 79 80 81 82 83 84 85 86 87 88 89 90 91 92 93 94 95\n",
      " 96 97 98 99] \n",
      "\n",
      "\n",
      " [[ 0  1  2  3  4  5  6  7  8  9]\n",
      " [10 11 12 13 14 15 16 17 18 19]\n",
      " [20 21 22 23 24 25 26 27 28 29]\n",
      " [30 31 32 33 34 35 36 37 38 39]\n",
      " [40 41 42 43 44 45 46 47 48 49]\n",
      " [50 51 52 53 54 55 56 57 58 59]\n",
      " [60 61 62 63 64 65 66 67 68 69]\n",
      " [70 71 72 73 74 75 76 77 78 79]\n",
      " [80 81 82 83 84 85 86 87 88 89]\n",
      " [90 91 92 93 94 95 96 97 98 99]] \n",
      "\n",
      "\n",
      " [[ 0  1  2  3  4  5  6  7  8  9 10 11 12 13 14 15 16 17 18 19]\n",
      " [20 21 22 23 24 25 26 27 28 29 30 31 32 33 34 35 36 37 38 39]\n",
      " [40 41 42 43 44 45 46 47 48 49 50 51 52 53 54 55 56 57 58 59]\n",
      " [60 61 62 63 64 65 66 67 68 69 70 71 72 73 74 75 76 77 78 79]\n",
      " [80 81 82 83 84 85 86 87 88 89 90 91 92 93 94 95 96 97 98 99]] \n",
      "\n",
      "\n",
      " [[ 0  1  2  3  4]\n",
      " [ 5  6  7  8  9]\n",
      " [10 11 12 13 14]\n",
      " [15 16 17 18 19]\n",
      " [20 21 22 23 24]\n",
      " [25 26 27 28 29]\n",
      " [30 31 32 33 34]\n",
      " [35 36 37 38 39]\n",
      " [40 41 42 43 44]\n",
      " [45 46 47 48 49]\n",
      " [50 51 52 53 54]\n",
      " [55 56 57 58 59]\n",
      " [60 61 62 63 64]\n",
      " [65 66 67 68 69]\n",
      " [70 71 72 73 74]\n",
      " [75 76 77 78 79]\n",
      " [80 81 82 83 84]\n",
      " [85 86 87 88 89]\n",
      " [90 91 92 93 94]\n",
      " [95 96 97 98 99]]\n",
      "\n",
      " SHAPE OF THE MATRIX IS:- (100,)\n"
     ]
    }
   ],
   "source": [
    "rg2=np.arange(100)\n",
    "print(rg2,'\\n\\n\\n',rg2.reshape(10,10),'\\n\\n\\n',rg2.reshape(5,20),'\\n\\n\\n',rg2.reshape(20,5))\n",
    "print('\\n',\"SHAPE OF THE MATRIX IS:-\",rg2.shape)"
   ]
  },
  {
   "attachments": {},
   "cell_type": "markdown",
   "metadata": {},
   "source": [
    "**NUMPY AXIS ROW OPERATION - axis=0 (operates down the column) COLUMN OPERATION - axis=1 (operates along the column)"
   ]
  },
  {
   "cell_type": "code",
   "execution_count": 17,
   "metadata": {},
   "outputs": [
    {
     "name": "stdout",
     "output_type": "stream",
     "text": [
      "ORIGINAL MATRIX IS:- \n",
      " [[1 2 3]\n",
      " [4 5 6]\n",
      " [7 8 9]] \n",
      "\n",
      "ROW OPERATION \n",
      " [12 15 18] \n",
      "\n",
      "COLUMN OPEARTION \n",
      " [ 6 15 24]\n"
     ]
    }
   ],
   "source": [
    "x=np.array([[1,2,3],[4,5,6],[7,8,9]])\n",
    "print('ORIGINAL MATRIX IS:-','\\n',x,'\\n')\n",
    "print(\"ROW OPERATION\",'\\n',x.sum(axis=0),'\\n')\n",
    "print(\"COLUMN OPEARTION\",'\\n',x.sum(axis=1))"
   ]
  },
  {
   "cell_type": "code",
   "execution_count": 18,
   "metadata": {},
   "outputs": [
    {
     "name": "stdout",
     "output_type": "stream",
     "text": [
      "[[20 22 24]\n",
      " [26 28 30]\n",
      " [31 33 35]] \n",
      "\n",
      "ROW OPERATION \n",
      " [77 83 89] \n",
      "\n",
      "COLUMN OPEARTION \n",
      " [66 84 99]\n"
     ]
    }
   ],
   "source": [
    "y=np.array([[20,22,24],[26,28,30],[31,33,35]])\n",
    "print(y,'\\n')\n",
    "print(\"ROW OPERATION\",'\\n',y.sum(axis=0),'\\n')\n",
    "print(\"COLUMN OPEARTION\",'\\n',y.sum(axis=1))"
   ]
  },
  {
   "cell_type": "code",
   "execution_count": 19,
   "metadata": {},
   "outputs": [
    {
     "name": "stdout",
     "output_type": "stream",
     "text": [
      "[20 21 22 23 24 25 26 27 28 29 30 31 32 33 34] \n",
      "\n",
      "[[20 21 22 23 24]\n",
      " [25 26 27 28 29]\n",
      " [30 31 32 33 34]] \n",
      "\n"
     ]
    }
   ],
   "source": [
    "z=np.arange(20,35)\n",
    "print(z,'\\n')\n",
    "m=z.reshape(3,5)\n",
    "print(m,'\\n')\n"
   ]
  },
  {
   "cell_type": "code",
   "execution_count": 20,
   "metadata": {},
   "outputs": [
    {
     "name": "stdout",
     "output_type": "stream",
     "text": [
      "ROW OPERATION \n",
      " [75 78 81 84 87] \n",
      "\n",
      "COLUMN OPEARTION \n",
      " [110 135 160]\n"
     ]
    }
   ],
   "source": [
    "print(\"ROW OPERATION\",'\\n',m.sum(axis=0),'\\n')\n",
    "print(\"COLUMN OPEARTION\",'\\n',m.sum(axis=1))"
   ]
  },
  {
   "cell_type": "code",
   "execution_count": 21,
   "metadata": {},
   "outputs": [
    {
     "name": "stdout",
     "output_type": "stream",
     "text": [
      "[[1 2 3]\n",
      " [4 5 6]\n",
      " [7 8 9]]\n",
      "\n",
      " SHAPE OF THE ORIGINAL MATRIX IS:- (3, 3) \n",
      "\n",
      "\n",
      "[[1 4 7]\n",
      " [2 5 8]\n",
      " [3 6 9]] \n",
      "\n",
      " SHAPE OF THE TRANSPOSE MATRIX IS:- (3, 3)\n"
     ]
    }
   ],
   "source": [
    "# TRASPOSE OF ARRAY \n",
    "print(x)\n",
    "print('\\n',\"SHAPE OF THE ORIGINAL MATRIX IS:-\",x.shape,'\\n\\n')\n",
    "d=x.T\n",
    "print(d,'\\n\\n',\"SHAPE OF THE TRANSPOSE MATRIX IS:-\",d.shape)"
   ]
  },
  {
   "cell_type": "code",
   "execution_count": 22,
   "metadata": {},
   "outputs": [
    {
     "data": {
      "text/plain": [
       "2"
      ]
     },
     "execution_count": 22,
     "metadata": {},
     "output_type": "execute_result"
    }
   ],
   "source": [
    "# DIMENSION - .ndim - this gives us the dimension of the matrix\n",
    "x.ndim"
   ]
  },
  {
   "cell_type": "code",
   "execution_count": 23,
   "metadata": {},
   "outputs": [
    {
     "data": {
      "text/plain": [
       "36"
      ]
     },
     "execution_count": 23,
     "metadata": {},
     "output_type": "execute_result"
    }
   ],
   "source": [
    "x.nbytes"
   ]
  },
  {
   "cell_type": "code",
   "execution_count": 24,
   "metadata": {},
   "outputs": [
    {
     "data": {
      "text/plain": [
       "8"
      ]
     },
     "execution_count": 24,
     "metadata": {},
     "output_type": "execute_result"
    }
   ],
   "source": [
    "x.argmax()        # returns the index of the highest value"
   ]
  },
  {
   "cell_type": "code",
   "execution_count": 25,
   "metadata": {},
   "outputs": [
    {
     "data": {
      "text/plain": [
       "0"
      ]
     },
     "execution_count": 25,
     "metadata": {},
     "output_type": "execute_result"
    }
   ],
   "source": [
    "x.argmin()        # returns the index of the minimum value"
   ]
  },
  {
   "cell_type": "code",
   "execution_count": 26,
   "metadata": {},
   "outputs": [
    {
     "name": "stdout",
     "output_type": "stream",
     "text": [
      "[[20 22 24]\n",
      " [26 28 30]\n",
      " [31 33 35]] \n",
      "\n",
      "8\n",
      "0\n"
     ]
    }
   ],
   "source": [
    "y=np.array([[20,22,24],[26,28,30],[31,33,35]])\n",
    "print(y,'\\n')\n",
    "print(y.argmax())\n",
    "print(y.argmin())"
   ]
  },
  {
   "cell_type": "code",
   "execution_count": 27,
   "metadata": {},
   "outputs": [
    {
     "name": "stdout",
     "output_type": "stream",
     "text": [
      "[ 1  2  4  5  8 99  1  1  2 22 55 78] \n",
      "\n"
     ]
    }
   ],
   "source": [
    "# SORTING\n",
    "y=np.array([1,2,4,5,8,99,1,1,2,22,55,78])\n",
    "print(y,'\\n')\n"
   ]
  },
  {
   "attachments": {},
   "cell_type": "markdown",
   "metadata": {},
   "source": [
    "MATRIX ADDITION , SUBT ,MULTIPL, DIVIS ETC. (MATRIX OPERATIONS)"
   ]
  },
  {
   "cell_type": "code",
   "execution_count": 29,
   "metadata": {},
   "outputs": [
    {
     "name": "stdout",
     "output_type": "stream",
     "text": [
      "MATRIX ADDITION [[12 14 16]\n",
      " [18 20 22]\n",
      " [24 26 28]] \n",
      "\n",
      "\n",
      "MATRIX SUBTARCTION [[-10 -10 -10]\n",
      " [-10 -10 -10]\n",
      " [-10 -10 -10]] \n",
      "\n",
      "\n",
      "MATRIX MULTIPLICATION [[ 11  24  39]\n",
      " [ 56  75  96]\n",
      " [119 144 171]] \n",
      "\n",
      "\n",
      "\n",
      "\n",
      " _____________________________ \n",
      "\n",
      "\n",
      "SQUARE ROOT OF a:-   [[3.31662479 3.46410162 3.60555128]\n",
      " [3.74165739 3.87298335 4.        ]\n",
      " [4.12310563 4.24264069 4.35889894]] \n",
      "\n",
      "SUM OF a:-   135 \n",
      "\n",
      "___________________________________ \n",
      "\n",
      "[[11 12 13]\n",
      " [14 15 16]\n",
      " [17 18 19]] \n",
      " MIN VALUE OF a:-   11 \n",
      "\n"
     ]
    }
   ],
   "source": [
    "x=np.array([[1,2,3],[4,5,6],[7,8,9]])\n",
    "a=np.array([[11,12,13],[14,15,16],[17,18,19]])\n",
    "print(\"MATRIX ADDITION\",x+a,'\\n\\n')\n",
    "print(\"MATRIX SUBTARCTION\",x-a,'\\n\\n')\n",
    "print(\"MATRIX MULTIPLICATION\",x*a,'\\n\\n')\n",
    "print('\\n\\n',\"_____________________________\",'\\n\\n')\n",
    "print(\"SQUARE ROOT OF a:-  \",np.sqrt(a),'\\n')\n",
    "print(\"SUM OF a:-  \",a.sum(),'\\n')\n",
    "print(\"___________________________________\",'\\n')\n",
    "print(a,'\\n',\"MIN VALUE OF a:-  \",a.min(),'\\n')"
   ]
  },
  {
   "cell_type": "code",
   "execution_count": 30,
   "metadata": {},
   "outputs": [
    {
     "data": {
      "text/plain": [
       "15.0"
      ]
     },
     "execution_count": 30,
     "metadata": {},
     "output_type": "execute_result"
    }
   ],
   "source": [
    "a.mean()"
   ]
  },
  {
   "cell_type": "code",
   "execution_count": 31,
   "metadata": {},
   "outputs": [
    {
     "data": {
      "text/plain": [
       "array([14., 15., 16.])"
      ]
     },
     "execution_count": 31,
     "metadata": {},
     "output_type": "execute_result"
    }
   ],
   "source": [
    "a.mean(axis=0)"
   ]
  },
  {
   "cell_type": "code",
   "execution_count": 32,
   "metadata": {},
   "outputs": [
    {
     "data": {
      "text/plain": [
       "array([12., 15., 18.])"
      ]
     },
     "execution_count": 32,
     "metadata": {},
     "output_type": "execute_result"
    }
   ],
   "source": [
    "a.mean(axis=1)"
   ]
  },
  {
   "cell_type": "code",
   "execution_count": 33,
   "metadata": {},
   "outputs": [
    {
     "data": {
      "text/plain": [
       "135"
      ]
     },
     "execution_count": 33,
     "metadata": {},
     "output_type": "execute_result"
    }
   ],
   "source": [
    "a.sum()"
   ]
  },
  {
   "cell_type": "code",
   "execution_count": 34,
   "metadata": {},
   "outputs": [
    {
     "data": {
      "text/plain": [
       "array([42, 45, 48])"
      ]
     },
     "execution_count": 34,
     "metadata": {},
     "output_type": "execute_result"
    }
   ],
   "source": [
    "a.sum(axis=0)"
   ]
  },
  {
   "cell_type": "code",
   "execution_count": 35,
   "metadata": {},
   "outputs": [
    {
     "data": {
      "text/plain": [
       "array([36, 45, 54])"
      ]
     },
     "execution_count": 35,
     "metadata": {},
     "output_type": "execute_result"
    }
   ],
   "source": [
    "a.sum(axis=1)"
   ]
  },
  {
   "cell_type": "code",
   "execution_count": 36,
   "metadata": {},
   "outputs": [
    {
     "data": {
      "text/plain": [
       "(array([5], dtype=int64),)"
      ]
     },
     "execution_count": 36,
     "metadata": {},
     "output_type": "execute_result"
    }
   ],
   "source": [
    "b=np.array([4,5,6,7,8,10])\n",
    "np.where(b>9)       # returns the index where b>9"
   ]
  },
  {
   "cell_type": "code",
   "execution_count": null,
   "metadata": {},
   "outputs": [],
   "source": []
  }
 ],
 "metadata": {
  "kernelspec": {
   "display_name": "Python 3",
   "language": "python",
   "name": "python3"
  },
  "language_info": {
   "codemirror_mode": {
    "name": "ipython",
    "version": 3
   },
   "file_extension": ".py",
   "mimetype": "text/x-python",
   "name": "python",
   "nbconvert_exporter": "python",
   "pygments_lexer": "ipython3",
   "version": "3.11.0"
  },
  "orig_nbformat": 4
 },
 "nbformat": 4,
 "nbformat_minor": 2
}
