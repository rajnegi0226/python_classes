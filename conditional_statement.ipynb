{
 "cells": [
  {
   "cell_type": "code",
   "execution_count": 3,
   "metadata": {
    "colab": {
     "base_uri": "https://localhost:8080/"
    },
    "id": "TZyxffzFa59m",
    "outputId": "8c2d523e-6b2a-4d2a-b149-afd8945e1d77"
   },
   "outputs": [
    {
     "name": "stdout",
     "output_type": "stream",
     "text": [
      "enter your no.7\n",
      "this is a true condition\n"
     ]
    }
   ],
   "source": [
    "i = int(input('enter your no.'))\n",
    "if(i<10):\n",
    "    print('this is a true condition')\n",
    "    "
   ]
  },
  {
   "cell_type": "code",
   "execution_count": 4,
   "metadata": {
    "colab": {
     "base_uri": "https://localhost:8080/"
    },
    "id": "mZSU0HzKbbwk",
    "outputId": "34e50a93-9a2f-491b-b74b-6dbd26805248"
   },
   "outputs": [
    {
     "name": "stdout",
     "output_type": "stream",
     "text": [
      "enter your no.18\n",
      "false\n"
     ]
    }
   ],
   "source": [
    "i = int(input(\"enter your no.\"))\n",
    "if (i<=10):\n",
    "    print(\"this is a true condition\")\n",
    "else :\n",
    "    print(\"false\")"
   ]
  },
  {
   "cell_type": "code",
   "execution_count": 5,
   "metadata": {
    "colab": {
     "base_uri": "https://localhost:8080/"
    },
    "id": "9m_hYnwibhlm",
    "outputId": "7c06bb18-6e0d-4935-e98e-46c5a4714622"
   },
   "outputs": [
    {
     "name": "stdout",
     "output_type": "stream",
     "text": [
      "enter your age :22\n",
      "you r a adult\n"
     ]
    }
   ],
   "source": [
    "age = int(input(\"enter your age :\"))\n",
    "if age <= 15 :\n",
    "  print(\"you are a kdi\")\n",
    "else:\n",
    "    print(\"you r a adult\")"
   ]
  },
  {
   "cell_type": "code",
   "execution_count": 6,
   "metadata": {
    "colab": {
     "base_uri": "https://localhost:8080/"
    },
    "id": "0qQH9vjLcTxT",
    "outputId": "10d5de69-11a5-499e-d5b2-e9a89667ba73"
   },
   "outputs": [
    {
     "name": "stdout",
     "output_type": "stream",
     "text": [
      "enter your no.8\n",
      "even\n"
     ]
    }
   ],
   "source": [
    "x = int(input(\"enter your no.\"))\n",
    "if (x%2)==0:\n",
    "    print(\"even\")\n",
    "else :\n",
    "    print(\"odd\")  \n"
   ]
  },
  {
   "cell_type": "code",
   "execution_count": 8,
   "metadata": {
    "colab": {
     "base_uri": "https://localhost:8080/"
    },
    "id": "w3DG4D_-dK-C",
    "outputId": "9ac1847d-995e-433e-94fa-15a29ba83c54"
   },
   "outputs": [
    {
     "name": "stdout",
     "output_type": "stream",
     "text": [
      "enter your age:22\n",
      "you are eligible for vote \n"
     ]
    }
   ],
   "source": [
    "age = int(input(\"enter your age:\"))\n",
    "if age > 18:\n",
    "    print('you are eligible for vote ')\n",
    "else:\n",
    "    print('you are not eligible')  "
   ]
  },
  {
   "cell_type": "code",
   "execution_count": 10,
   "metadata": {
    "colab": {
     "base_uri": "https://localhost:8080/"
    },
    "id": "OvCkFBMUej3g",
    "outputId": "db4b3bb7-104a-4100-d1cb-917ead44e93b"
   },
   "outputs": [
    {
     "name": "stdout",
     "output_type": "stream",
     "text": [
      "enter your age15\n"
     ]
    }
   ],
   "source": [
    "age = int(input('enter your age'))\n",
    "if age <= 12:\n",
    "    print('you are kid')\n",
    "elif age == 18:\n",
    "    print('you are 18 and in adulthood')\n",
    "elif age >=19 : \n",
    "    print('you are above 18') "
   ]
  },
  {
   "cell_type": "code",
   "execution_count": 12,
   "metadata": {
    "colab": {
     "base_uri": "https://localhost:8080/"
    },
    "id": "UqTRQbWdgaQV",
    "outputId": "8e964a4d-c7f7-450a-86bf-622c8f5a66d6"
   },
   "outputs": [
    {
     "name": "stdout",
     "output_type": "stream",
     "text": [
      "enter color yellow\n",
      "car has to wait\n"
     ]
    }
   ],
   "source": [
    "x = str(input(\"enter color \"))\n",
    "if x == \"green\":\n",
    "    print(\"car allowed to go\")\n",
    "elif x =='red':\n",
    "    print('car has to stop')\n",
    "elif x ==\"yellow\":\n",
    "    print('car has to wait')   "
   ]
  },
  {
   "cell_type": "code",
   "execution_count": 1,
   "metadata": {
    "colab": {
     "base_uri": "https://localhost:8080/",
     "height": 398
    },
    "id": "bmWNHqBFhdww",
    "outputId": "c2cc99e3-b584-4158-92d6-fd6235f42da3"
   },
   "outputs": [
    {
     "name": "stdout",
     "output_type": "stream",
     "text": [
      "enter the name vivek\n",
      "enter the classx\n",
      "enter the sectiona\n",
      "enter the gradeb\n"
     ]
    }
   ],
   "source": [
    "name = str(input('enter the name '))\n",
    "clas = str(input('enter the class'))\n",
    "section = str(input('enter the section'))\n",
    "grade = str(input('enter the grade'))\n",
    "if grade == 'A':\n",
    "    print('excellent')\n",
    "elif grade == 'B':\n",
    "    print('average')\n",
    "elif grade == 'C':\n",
    "    print('below average')      \n",
    "\n",
    "\n"
   ]
  },
  {
   "cell_type": "code",
   "execution_count": 17,
   "metadata": {
    "colab": {
     "base_uri": "https://localhost:8080/"
    },
    "id": "JiR-MCTTpi5O",
    "outputId": "705f63f3-7aef-4cbe-df7b-ad2a969eea66"
   },
   "outputs": [
    {
     "name": "stdout",
     "output_type": "stream",
     "text": [
      "enter your age19\n",
      "you are a adult \n"
     ]
    }
   ],
   "source": [
    "age = int(input('enter your age'))\n",
    "if age < 15 and age > 0:\n",
    "    print('you are a child ')\n",
    "elif age > 15 and age >18:\n",
    "    print('you are a adult ')\n",
    "else:\n",
    "    print('you are old')"
   ]
  },
  {
   "cell_type": "code",
   "execution_count": 2,
   "metadata": {
    "id": "V-gS2PdHrGkC"
   },
   "outputs": [
    {
     "name": "stdout",
     "output_type": "stream",
     "text": [
      "fail\n"
     ]
    }
   ],
   "source": [
    "subject_1 = int(input('enter the number'))\n",
    "subject_2 = int(input('enter the number'))\n",
    "subject_3 = int(input('enter the number'))\n",
    "percentage = (subject_1 + subject_2 + subject_3 )/3\n",
    "if percentage < 45:\n",
    "    print('fail')\n",
    "elif 45<= (percentage) <=60 :\n",
    "        print('pass')\n",
    "elif 60<= (percentage) <=75 :\n",
    "        print('good')\n",
    "elif 75<=(percentage)<=85:\n",
    "        print('very good')\n",
    "elif 85<=(percentage)<=100:\n",
    "        print('excellent ')\n",
    "else:\n",
    "    print(\"error\")   "
   ]
  },
  {
   "attachments": {},
   "cell_type": "markdown",
   "metadata": {},
   "source": [
    "# nested conditions"
   ]
  },
  {
   "cell_type": "code",
   "execution_count": 3,
   "metadata": {},
   "outputs": [
    {
     "name": "stdout",
     "output_type": "stream",
     "text": [
      "you are above 12 \n"
     ]
    }
   ],
   "source": [
    "age = int(input('enter your age'))\n",
    "if age <=12:\n",
    "    print('you are a kid ')\n",
    "    if age < 5:\n",
    "    #nested if condition\n",
    "        print('and also below 5!')\n",
    "    else:\n",
    "        print('but not below 5!')\n",
    "else:\n",
    "    print('you are above 12 ')      "
   ]
  },
  {
   "cell_type": "code",
   "execution_count": null,
   "metadata": {},
   "outputs": [],
   "source": [
    "subject_1 = int(input('enter the number'))\n",
    "subject_2 = int(input('enter the number'))\n",
    "subject_3 = int(input('enter the number'))\n",
    "percentage = ((subject_1 + subject_2 + subject_3 )/3)\n",
    "if percentage >= 35 and percentage <=100 :\n",
    "    print('you are pass')\n",
    "    if 35 <= percentage <= 60:\n",
    "        print('you are average student')\n",
    "    elif percentage >=60  and percentage <= 80:\n",
    "        print('you are good student')  \n",
    "    elif percentage >= 81:\n",
    "        print('you are very good student')  \n",
    "elif percentage < 35:\n",
    "    print('you are fail')\n",
    "\n",
    "else:\n",
    "    print('error')  "
   ]
  },
  {
   "cell_type": "code",
   "execution_count": null,
   "metadata": {},
   "outputs": [],
   "source": [
    "a = str(input('enter your name'))\n",
    "b = int(input('enter your age'))\n",
    "c = int(input('enter your salary\\n'))\n",
    "print('\\n')\n",
    "print(a.capitalize )\n",
    "print(b)\n",
    "if c >= 50000:\n",
    "    print(\"grade A employ \")\n",
    "    if 50000< c < 70000:\n",
    "        print('you are a CFO')\n",
    "    elif 70000 <= c<= 90000:\n",
    "        print('you are DFO')\n",
    "    else :\n",
    "        print('you are a founder of company ')\n",
    "elif (30000 < c < 50000):\n",
    "    print('grade B salary')\n",
    "    if 30000< c < 45000:\n",
    "        print(' tu kox nahi h ')\n",
    "elif (20000 < c < 30000):\n",
    "    print('grade c salary')\n",
    "    if c <=260000:\n",
    "        print('pariwar palne layak ')\n",
    "else:\n",
    "    print('grade d salary\\n','tu sale doob mar')"
   ]
  },
  {
   "attachments": {},
   "cell_type": "markdown",
   "metadata": {},
   "source": [
    "# EXERCISE \n",
    "1. name \n",
    "2. work/occupation \n",
    "3. city(delhi NCR[faridabad,noida,gurugarm])\n",
    "4. age(18<age<30,40>age>30,50>age>40,50<age<60)"
   ]
  },
  {
   "cell_type": "code",
   "execution_count": null,
   "metadata": {},
   "outputs": [],
   "source": [
    "a = input('Enter your name:\\n')\n",
    "b = input('Enter your occupation:\\n')\n",
    "d = int(input('Enter your age:'))\n",
    "c = str(input('Which city do you from:\\n'))\n",
    "C = c.upper()\n",
    "if C == 'DELHI NCR':\n",
    "    e = str(input('which city in delhi NCR:\\n'))\n",
    "    E = e.upper()\n",
    "    if E == 'FARIDABAD':\n",
    "        if 18<=d<30:\n",
    "            print('\\n')\n",
    "            print('Your Information:\\n', 'YOUR NAME:', a, '\\n', 'YOUR OCCUPATION:', b, '\\n', 'YOU ARE FROM:', c, ',', e,\n",
    "                  '\\n', 'YOUR AGE:', d,'you are an adult person')\n",
    "        elif 30<=d<40:\n",
    "            married = str(input('married or unmarried:-'))\n",
    "            m = married.capitalize()\n",
    "            M = married.upper()\n",
    "            if M == 'MARRIED':\n",
    "                print('Your Information:\\n','YOUR NAME:',a ,'\\n','YOUR OCCUPATION:',b, '\\n','YOU ARE FROM:',c, ',',e,'\\n','YOUR AGE:',d,'you are a ',m,' person')\n",
    "            elif M == 'UNMARRIED':\n",
    "                print('Your Information:\\n','YOUR NAME:',a ,'\\n','YOUR OCCUPATION:',b, '\\n','YOU ARE FROM:',c, ',',e,'\\n','YOUR AGE:',d,'you are a ',m,' person')\n",
    "            else:\n",
    "                print('Your Information:\\n','YOUR NAME:',a ,'\\n','YOUR OCCUPATION:',b, '\\n','YOU ARE FROM:',c, ',',e,'\\n','YOUR AGE:',d,'you are a',married,'person')\n",
    "        elif 40<=d<50:\n",
    "            print('\\n')\n",
    "            print('Your Information:\\n','YOUR NAME:',a ,'\\n','YOUR OCCUPATION:',b, '\\n','YOU ARE FROM:',c, ',',e,'\\n','YOUR AGE:',d,'you are a senior citizen')\n",
    "        elif 50<=d<=70:\n",
    "            print('\\n')\n",
    "            print('Your Information:\\n','YOUR NAME:',a ,'\\n','YOUR OCCUPATION:',b, '\\n','YOU ARE FROM:',c, ',',e,'\\n','YOUR AGE:',d,'you are an old person')\n",
    "        else:\n",
    "            print('\\n')\n",
    "            print('Your Information:\\n','YOUR NAME:',a ,'\\n','YOUR OCCUPATION:',b, '\\n','YOU ARE FROM:',c, ',',e,'\\n','YOUR AGE:',d,)\n",
    "    elif E == 'NOIDA':\n",
    "        if 18 <= d <= 30:\n",
    "            print('\\n')\n",
    "            print('Your Information:\\n', 'YOUR NAME:', a, '\\n', 'YOUR OCCUPATION:', b, '\\n', 'YOU ARE FROM:', c, ',', e,\n",
    "                  '\\n', 'YOUR AGE:', d, 'you are an adult person')\n",
    "        elif 30 <= d < 40:\n",
    "            married = str(input('married or unmarried:-'))\n",
    "            m = married.capitalize()\n",
    "            M = married.upper()\n",
    "            if M == 'MARRIED':\n",
    "                print('Your Information:\\n', 'YOUR NAME:', a, '\\n', 'YOUR OCCUPATION:', b, '\\n', 'YOU ARE FROM:', c,\n",
    "                      ',', e, '\\n', 'YOUR AGE:', d, 'you are a ', m, ' person')\n",
    "            elif M == 'UNMARRIED':\n",
    "                print('Your Information:\\n', 'YOUR NAME:', a, '\\n', 'YOUR OCCUPATION:', b, '\\n', 'YOU ARE FROM:', c,\n",
    "                      ',', e, '\\n', 'YOUR AGE:', d, 'you are a ', m, ' person')\n",
    "            else:\n",
    "                print('Your Information:\\n', 'YOUR NAME:', a, '\\n', 'YOUR OCCUPATION:', b, '\\n', 'YOU ARE FROM:', c,\n",
    "                      ',', e, '\\n', 'YOUR AGE:', d, 'you are a', married, 'person')\n",
    "        elif 40 <= d < 50:\n",
    "            print('\\n')\n",
    "            print('Your Information:\\n', 'YOUR NAME:', a, '\\n', 'YOUR OCCUPATION:', b, '\\n', 'YOU ARE FROM:', c, ',', e,\n",
    "                  '\\n', 'YOUR AGE:', d, 'you are a senior citizen')\n",
    "        elif 50 <= d <= 70:\n",
    "            print('\\n')\n",
    "            print('Your Information:\\n', 'YOUR NAME:', a, '\\n', 'YOUR OCCUPATION:', b, '\\n', 'YOU ARE FROM:', c, ',', e,\n",
    "                  '\\n', 'YOUR AGE:', d, 'you are an old person')\n",
    "        else:\n",
    "            print('\\n')\n",
    "            print('Your Information:\\n', 'YOUR NAME:', a, '\\n', 'YOUR OCCUPATION:', b, '\\n', 'YOU ARE FROM:', c, ',', e,\n",
    "                  '\\n', 'YOUR AGE:', d, )\n",
    "    elif E == 'GURUGRAM':\n",
    "        if 18 <= d < 30:\n",
    "            print('\\n')\n",
    "            print('Your Information:\\n', 'YOUR NAME:', a, '\\n', 'YOUR OCCUPATION:', b, '\\n', 'YOU ARE FROM:', c, ',', e,\n",
    "                  '\\n', 'YOUR AGE:', d, 'you are an adult person')\n",
    "        elif 30 <= d < 40:\n",
    "            married = str(input('married or unmarried:-'))\n",
    "            m = married.capitalize()\n",
    "            M = married.upper()\n",
    "            if M == 'MARRIED':\n",
    "                print('Your Information:\\n', 'YOUR NAME:', a, '\\n', 'YOUR OCCUPATION:', b, '\\n', 'YOU ARE FROM:', c,\n",
    "                      ',', e, '\\n', 'YOUR AGE:', d, 'you are a ', m, ' person')\n",
    "            elif M == 'UNMARRIED':\n",
    "                print('Your Information:\\n', 'YOUR NAME:', a, '\\n', 'YOUR OCCUPATION:', b, '\\n', 'YOU ARE FROM:', c,\n",
    "                      ',', e, '\\n', 'YOUR AGE:', d, 'you are a ', m, ' person')\n",
    "            else:\n",
    "                print('Your Information:\\n', 'YOUR NAME:', a, '\\n', 'YOUR OCCUPATION:', b, '\\n', 'YOU ARE FROM:', c,\n",
    "                      ',', e, '\\n', 'YOUR AGE:', d, 'you are a', married, 'person')\n",
    "        elif 40 <= d < 50:\n",
    "            print('\\n')\n",
    "            print('Your Information:\\n', 'YOUR NAME:', a, '\\n', 'YOUR OCCUPATION:', b, '\\n', 'YOU ARE FROM:', c, ',', e,\n",
    "                  '\\n', 'YOUR AGE:', d, 'you are a senior citizen')\n",
    "        elif 50 <= d <= 70:\n",
    "            print('\\n')\n",
    "            print('Your Information:\\n', 'YOUR NAME:', a, '\\n', 'YOUR OCCUPATION:', b, '\\n', 'YOU ARE FROM:', c, ',', e,\n",
    "                  '\\n', 'YOUR AGE:', d, 'you are an old person')\n",
    "        else:\n",
    "            print('\\n')\n",
    "            print('Your Information:\\n', 'YOUR NAME:', a, '\\n', 'YOUR OCCUPATION:', b, '\\n', 'YOU ARE FROM:', c, ',', e,\n",
    "                  '\\n', 'YOUR AGE:', d, )\n",
    "    else:\n",
    "        print('\\n')\n",
    "        print('INVALID ERROR')\n",
    "else:\n",
    "    print('\\n')\n",
    "    print('Your Information:\\n','YOUR NAME:',a ,'\\n','YOUR OCCUPATION:',b, '\\n','YOUR AGE:',d,'\\n','YOU ARE FROM:',c,'\\n')"
   ]
  }
 ],
 "metadata": {
  "colab": {
   "collapsed_sections": [],
   "provenance": []
  },
  "kernelspec": {
   "display_name": "Python 3 (ipykernel)",
   "language": "python",
   "name": "python3"
  },
  "language_info": {
   "codemirror_mode": {
    "name": "ipython",
    "version": 3
   },
   "file_extension": ".py",
   "mimetype": "text/x-python",
   "name": "python",
   "nbconvert_exporter": "python",
   "pygments_lexer": "ipython3",
   "version": "3.11.0"
  }
 },
 "nbformat": 4,
 "nbformat_minor": 1
}
