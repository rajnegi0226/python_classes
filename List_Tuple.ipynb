{
 "cells": [
  {
   "attachments": {},
   "cell_type": "markdown",
   "id": "b4efc053",
   "metadata": {},
   "source": [
    "# Python Lists\n",
    "1. Lists are ordered collection of data items.\n",
    "2. They store multiple items in a single variable.\n",
    "3. List items are separated by commas and enclosed within square brackets [].\n",
    "4. Lists are changeable meaning we can alter them after creation.\n",
    "\n",
    "Example 1:"
   ]
  },
  {
   "cell_type": "code",
   "execution_count": 1,
   "id": "58185ce2",
   "metadata": {},
   "outputs": [
    {
     "name": "stdout",
     "output_type": "stream",
     "text": [
      "[1, 2, 2, 3, 5, 4, 6]\n",
      "['Red', 'Green', 'Blue']\n"
     ]
    }
   ],
   "source": [
    "lst1 = [1,2,2,3,5,4,6]\n",
    "lst2 = [\"Red\", \"Green\", \"Blue\"]\n",
    "print(lst1)\n",
    "print(lst2)"
   ]
  },
  {
   "cell_type": "code",
   "execution_count": 2,
   "id": "5b9ce2aa",
   "metadata": {},
   "outputs": [
    {
     "name": "stdout",
     "output_type": "stream",
     "text": [
      "['Abhijeet', 18, 'FYBScIT', 9.8]\n"
     ]
    }
   ],
   "source": [
    "# Example\n",
    "details = [\"Abhijeet\", 18, \"FYBScIT\", 9.8]\n",
    "print(details)"
   ]
  },
  {
   "attachments": {},
   "cell_type": "markdown",
   "id": "ee352835",
   "metadata": {},
   "source": [
    "# List Index\n",
    "Each item/element in a list has its own unique index. This index can be used to access any particular item from the list. The first item has index [0], second item has index [1], third item has index [2] and so on.\n",
    "\n",
    "Example:"
   ]
  },
  {
   "cell_type": "code",
   "execution_count": 3,
   "id": "9dba99f3",
   "metadata": {},
   "outputs": [],
   "source": [
    "colors = [\"Red\", \"Green\", \"Blue\", \"Yellow\", \"Green\"]\n",
    "#          [0]      [1]     [2]      [3]      [4]"
   ]
  },
  {
   "attachments": {},
   "cell_type": "markdown",
   "id": "c254edd3",
   "metadata": {},
   "source": [
    "# Accessing list items\n",
    "We can access list items by using its index with the square bracket syntax []. For example colors[0] will give \"Red\", colors[1] will give \"Green\" and so on...\n",
    "\n",
    "# Positive Indexing:\n",
    "As we have seen that list items have index, as such we can access items using these indexes.\n",
    "\n",
    "Example:"
   ]
  },
  {
   "cell_type": "code",
   "execution_count": 4,
   "id": "f0d45b7b",
   "metadata": {},
   "outputs": [
    {
     "name": "stdout",
     "output_type": "stream",
     "text": [
      "Blue\n",
      "Green\n",
      "Red\n"
     ]
    }
   ],
   "source": [
    "colors = [\"Red\", \"Green\", \"Blue\", \"Yellow\", \"Green\"]\n",
    "#          [0]      [1]     [2]      [3]      [4]\n",
    "print(colors[2])\n",
    "print(colors[4])\n",
    "print(colors[0])"
   ]
  },
  {
   "attachments": {},
   "cell_type": "markdown",
   "id": "8daaf949",
   "metadata": {},
   "source": [
    "# Negative Indexing:\n",
    "Similar to positive indexing, negative indexing is also used to access items, but from the end of the list. The last item has index [-1], second last item has index [-2], third last item has index [-3] and so on.\n",
    "\n",
    "Example:"
   ]
  },
  {
   "cell_type": "code",
   "execution_count": 5,
   "id": "54fedf4c",
   "metadata": {},
   "outputs": [
    {
     "name": "stdout",
     "output_type": "stream",
     "text": [
      "Green\n",
      "Blue\n",
      "Red\n"
     ]
    }
   ],
   "source": [
    "colors = [\"Red\", \"Green\", \"Blue\", \"Yellow\", \"Green\"]\n",
    "#          [-5]    [-4]    [-3]     [-2]      [-1]\n",
    "print(colors[-1])\n",
    "print(colors[-3])\n",
    "print(colors[-5])"
   ]
  },
  {
   "attachments": {},
   "cell_type": "markdown",
   "id": "85c1e19a",
   "metadata": {},
   "source": [
    "Check whether an item in present in the list?\n",
    "We can check if a given item is present in the list. This is done using the in keyword."
   ]
  },
  {
   "cell_type": "code",
   "execution_count": 6,
   "id": "23bd4f81",
   "metadata": {},
   "outputs": [
    {
     "name": "stdout",
     "output_type": "stream",
     "text": [
      "Yellow is present.\n"
     ]
    }
   ],
   "source": [
    "colors = [\"Red\", \"Green\", \"Blue\", \"Yellow\", \"Green\"]\n",
    "if \"Yellow\" in colors:\n",
    "    print(\"Yellow is present.\")\n",
    "else:\n",
    "    print(\"Yellow is absent.\")"
   ]
  },
  {
   "cell_type": "code",
   "execution_count": 7,
   "id": "69a84b3e",
   "metadata": {},
   "outputs": [
    {
     "name": "stdout",
     "output_type": "stream",
     "text": [
      "Orange is absent.\n"
     ]
    }
   ],
   "source": [
    "colors = [\"Red\", \"Green\", \"Blue\", \"Yellow\", \"Green\"]\n",
    "if \"Orange\" in colors:\n",
    "    print(\"Orange is present.\")\n",
    "else:\n",
    "    print(\"Orange is absent.\")"
   ]
  },
  {
   "attachments": {},
   "cell_type": "markdown",
   "id": "82a2050f",
   "metadata": {},
   "source": [
    "# Range of Index:\n",
    "You can print a range of list items by specifying where you want to start, where do you want to end and if you want to skip elements in between the range.\n",
    "\n",
    "Syntax:\n",
    "\n",
    "listName[start : end : jumpIndex]\n",
    "\n",
    "Note: jump Index is optional. We will see this in later examples.\n",
    "\n",
    "Example: printing elements within a particular range:"
   ]
  },
  {
   "cell_type": "code",
   "execution_count": 8,
   "id": "2cab6f08",
   "metadata": {},
   "outputs": [
    {
     "name": "stdout",
     "output_type": "stream",
     "text": [
      "['mouse', 'pig', 'horse', 'donkey']\n",
      "['bat', 'mouse', 'pig', 'horse', 'donkey']\n"
     ]
    }
   ],
   "source": [
    "animals = [\"cat\", \"dog\", \"bat\", \"mouse\", \"pig\", \"horse\", \"donkey\", \"goat\", \"cow\"]\n",
    "print(animals[3:7])\t#using positive indexes\n",
    "print(animals[-7:-2])\t#using negative indexes'"
   ]
  },
  {
   "attachments": {},
   "cell_type": "markdown",
   "id": "f1a5568f",
   "metadata": {},
   "source": [
    "Here, we provide index of the element from where we want to start and the index of the element till which we want to print the values.\n",
    "\n",
    "Note: The element of the end index provided will not be included.\n",
    "\n",
    "Example: printing all element from a given index till the end"
   ]
  },
  {
   "cell_type": "code",
   "execution_count": 9,
   "id": "b24eae8c",
   "metadata": {},
   "outputs": [
    {
     "name": "stdout",
     "output_type": "stream",
     "text": [
      "['pig', 'horse', 'donkey', 'goat', 'cow']\n",
      "['horse', 'donkey', 'goat', 'cow']\n"
     ]
    }
   ],
   "source": [
    "animals = [\"cat\", \"dog\", \"bat\", \"mouse\", \"pig\", \"horse\", \"donkey\", \"goat\", \"cow\"]\n",
    "print(animals[4:])\t#using positive indexes\n",
    "print(animals[-4:])\t#using negative indexes"
   ]
  },
  {
   "attachments": {},
   "cell_type": "markdown",
   "id": "f413828f",
   "metadata": {},
   "source": [
    "When no end index is provided, the interpreter prints all the values till the end.\n",
    "\n",
    "Example: printing all elements from start to a given index"
   ]
  },
  {
   "cell_type": "code",
   "execution_count": 10,
   "id": "191f4d95",
   "metadata": {},
   "outputs": [
    {
     "name": "stdout",
     "output_type": "stream",
     "text": [
      "['cat', 'dog', 'bat', 'mouse', 'pig', 'horse']\n",
      "['cat', 'dog', 'bat', 'mouse', 'pig', 'horse']\n"
     ]
    }
   ],
   "source": [
    "animals = [\"cat\", \"dog\", \"bat\", \"mouse\", \"pig\", \"horse\", \"donkey\", \"goat\", \"cow\"]\n",
    "print(animals[:6])\t#using positive indexes\n",
    "print(animals[:-3])\t#using negative indexes"
   ]
  },
  {
   "attachments": {},
   "cell_type": "markdown",
   "id": "cb14c3ef",
   "metadata": {},
   "source": [
    "When no start index is provided, the interpreter prints all the values from start up to the end index provided.\n",
    "\n",
    "Example: Printing alternate values"
   ]
  },
  {
   "cell_type": "code",
   "execution_count": 11,
   "id": "c348938a",
   "metadata": {},
   "outputs": [
    {
     "name": "stdout",
     "output_type": "stream",
     "text": [
      "['cat', 'bat', 'pig', 'donkey', 'cow']\n",
      "['dog', 'mouse', 'horse', 'goat']\n"
     ]
    }
   ],
   "source": [
    "animals = [\"cat\", \"dog\", \"bat\", \"mouse\", \"pig\", \"horse\", \"donkey\", \"goat\", \"cow\"]\n",
    "print(animals[::2])\t\t#using positive indexes\n",
    "print(animals[-8:-1:2])\t#using negative indexes"
   ]
  },
  {
   "attachments": {},
   "cell_type": "markdown",
   "id": "c8a0c5d6",
   "metadata": {},
   "source": [
    "Here, we have not provided start and index, which means all the values will be considered. But as we have provided a jump index of 2 only alternate values will be printed.\n",
    "\n",
    "Example: printing every 3rd consecutive value withing a given range"
   ]
  },
  {
   "cell_type": "code",
   "execution_count": 12,
   "id": "a7caf5af",
   "metadata": {},
   "outputs": [
    {
     "name": "stdout",
     "output_type": "stream",
     "text": [
      "['dog', 'pig', 'goat']\n"
     ]
    }
   ],
   "source": [
    "animals = [\"cat\", \"dog\", \"bat\", \"mouse\", \"pig\", \"horse\", \"donkey\", \"goat\", \"cow\"]\n",
    "print(animals[1:8:3])"
   ]
  },
  {
   "attachments": {},
   "cell_type": "markdown",
   "id": "8c9d32eb",
   "metadata": {},
   "source": [
    "Here, jump index is 3. Hence it prints every 3rd element within given index."
   ]
  },
  {
   "attachments": {},
   "cell_type": "markdown",
   "id": "719b23fc",
   "metadata": {},
   "source": [
    "# List Comprehension\n",
    "List comprehensions are used for creating new lists from other iterables like lists, tuples, dictionaries, sets, and even in arrays and strings.\n",
    "\n",
    "Syntax:\n",
    "List = [Expression(item) for item in iterable if Condition]\n",
    "\n",
    "Expression: It is the item which is being iterated.\n",
    "\n",
    "Iterable: It can be list, tuples, dictionaries, sets, and even in arrays and strings.\n",
    "\n",
    "Condition: Condition checks if the item should be added to the new list or not.\n",
    "\n",
    "Example 1: Accepts items with the small letter “o” in the new list"
   ]
  },
  {
   "cell_type": "code",
   "execution_count": 13,
   "id": "c078e7f9",
   "metadata": {},
   "outputs": [
    {
     "name": "stdout",
     "output_type": "stream",
     "text": [
      "['Milo', 'Bruno', 'Rosa']\n"
     ]
    }
   ],
   "source": [
    "names = [\"Milo\", \"Sarah\", \"Bruno\", \"Anastasia\", \"Rosa\"]\n",
    "namesWith_O = [item for item in names if \"o\" in item]\n",
    "print(namesWith_O)"
   ]
  },
  {
   "cell_type": "code",
   "execution_count": 14,
   "id": "bae5312c",
   "metadata": {},
   "outputs": [
    {
     "name": "stdout",
     "output_type": "stream",
     "text": [
      "['Sarah', 'Bruno', 'Anastasia']\n"
     ]
    }
   ],
   "source": [
    "# Example 2: Accepts items which have more than 4 letters\n",
    "names = [\"Milo\", \"Sarah\", \"Bruno\", \"Anastasia\", \"Rosa\"]\n",
    "namesWith_O = [item for item in names if (len(item) > 4)]\n",
    "print(namesWith_O)"
   ]
  },
  {
   "cell_type": "code",
   "execution_count": 15,
   "id": "34862792",
   "metadata": {},
   "outputs": [
    {
     "name": "stdout",
     "output_type": "stream",
     "text": [
      "[0, 1, 4, 9, 16, 25, 36, 49, 64, 81]\n",
      "[0, 4, 16, 36, 64]\n"
     ]
    }
   ],
   "source": [
    "# another way to make a list\n",
    "lst = [i*i for i in range(10)]\n",
    "print(lst)\n",
    "lst = [i*i for i in range(10) if i%2==0]\n",
    "print(lst)"
   ]
  },
  {
   "attachments": {},
   "cell_type": "markdown",
   "id": "b932c6da",
   "metadata": {},
   "source": [
    "# List and Tuple\n",
    "#1) LIST - Lists are mutable \n",
    "           consume more memory \n",
    "           better for performing operations such as insertion and deletion \n",
    "           implication of iteration is time consuming\n",
    "#2) TUPLE - Tuples are immutable \n",
    "            consume less memory \n",
    "            iterartions are faster\n",
    "            apt for accessing the element "
   ]
  },
  {
   "cell_type": "code",
   "execution_count": 17,
   "id": "404aa748",
   "metadata": {},
   "outputs": [
    {
     "name": "stdout",
     "output_type": "stream",
     "text": [
      "ORIGINAL LIST IS:- [1, 2, 3, 4, 5, 6, 7, 8] \n",
      "\n",
      "LENGTH OF THE STRING IS:-  8 \n",
      "\n",
      "UPDATED LIST IS:- [1, 2, 'aplha', 77, 'a', 80, 7, 8]\n"
     ]
    }
   ],
   "source": [
    "List=[1,2,3,4,5,6,7,8]\n",
    "print(\"ORIGINAL LIST IS:-\", List,'\\n')\n",
    "\n",
    "print(\"LENGTH OF THE STRING IS:- \",len(List),'\\n')\n",
    "\n",
    "List[3]=77                          # at index=3 , 77 gets inserted\n",
    "List[5]=80\n",
    "List[4]=\"a\"\n",
    "List[2]=\"aplha\"\n",
    "#List[10]=33                         # Since length of the list is only 8 hence the list cannot be modified beyond the limit\n",
    "print(\"UPDATED LIST IS:-\",List)     # shoes that list can be modified\n"
   ]
  },
  {
   "cell_type": "code",
   "execution_count": 18,
   "id": "327bc8d4",
   "metadata": {},
   "outputs": [
    {
     "name": "stdout",
     "output_type": "stream",
     "text": [
      "ORIGINAL Tuple IS:- (1, 2, 3, 4, 5) \n",
      "\n"
     ]
    },
    {
     "ename": "TypeError",
     "evalue": "'tuple' object does not support item assignment",
     "output_type": "error",
     "traceback": [
      "\u001b[1;31m---------------------------------------------------------------------------\u001b[0m",
      "\u001b[1;31mTypeError\u001b[0m                                 Traceback (most recent call last)",
      "Input \u001b[1;32mIn [18]\u001b[0m, in \u001b[0;36m<cell line: 6>\u001b[1;34m()\u001b[0m\n\u001b[0;32m      3\u001b[0m Tuple1 \u001b[38;5;241m=\u001b[39m(\u001b[38;5;241m1\u001b[39m,\u001b[38;5;241m2\u001b[39m,\u001b[38;5;241m3\u001b[39m,\u001b[38;5;241m4\u001b[39m,\u001b[38;5;241m5\u001b[39m)\n\u001b[0;32m      4\u001b[0m \u001b[38;5;28mprint\u001b[39m(\u001b[38;5;124m\"\u001b[39m\u001b[38;5;124mORIGINAL Tuple IS:-\u001b[39m\u001b[38;5;124m\"\u001b[39m, Tuple1,\u001b[38;5;124m'\u001b[39m\u001b[38;5;130;01m\\n\u001b[39;00m\u001b[38;5;124m'\u001b[39m)\n\u001b[1;32m----> 6\u001b[0m Tuple1[\u001b[38;5;241m3\u001b[39m]\u001b[38;5;241m=\u001b[39m\u001b[38;5;241m77\u001b[39m                              \u001b[38;5;66;03m# at index=3 , 77 gets inserted\u001b[39;00m\n\u001b[0;32m      8\u001b[0m \u001b[38;5;28mprint\u001b[39m(\u001b[38;5;124m\"\u001b[39m\u001b[38;5;124mUPDATED Tuple IS:-\u001b[39m\u001b[38;5;124m\"\u001b[39m,Tuple1)      \u001b[38;5;66;03m# shoes that list can be modified\u001b[39;00m\n\u001b[0;32m      9\u001b[0m \u001b[38;5;28mprint\u001b[39m(\u001b[38;5;124m\"\u001b[39m\u001b[38;5;124mTUPLES ARE IMMUTABLE\u001b[39m\u001b[38;5;124m\"\u001b[39m)\n",
      "\u001b[1;31mTypeError\u001b[0m: 'tuple' object does not support item assignment"
     ]
    }
   ],
   "source": [
    "# Tuples are immutable\n",
    "# Tuples do not have in built methods\n",
    "\n",
    "Tuple1 =(1,2,3,4,5)\n",
    "print(\"ORIGINAL Tuple IS:-\", Tuple1,'\\n')\n",
    "\n",
    "Tuple1[3]=77                              # at index=3 , 77 does not get inserted\n",
    "\n",
    "print(\"UPDATED Tuple IS:-\",Tuple1)       # shoes that tuples cannot be modified\n",
    "print(\"TUPLES ARE IMMUTABLE\")\n"
   ]
  },
  {
   "cell_type": "code",
   "execution_count": 20,
   "id": "b3da2300",
   "metadata": {},
   "outputs": [
    {
     "name": "stdout",
     "output_type": "stream",
     "text": [
      "120\n",
      "64\n"
     ]
    }
   ],
   "source": [
    "import sys                                  # sys library - used to know the compile time/runtime memory\n",
    "a_list=[\"My\",\"name\",\"is Python\"]            # O/P in bytes\n",
    "a_tuple=(\"My\",\"name\",\"is Python\")\n",
    "print(sys.getsizeof(a_list))                # List occupies more memory because it allows modification\n",
    "print(sys.getsizeof(a_tuple))               # Tuple occupies less memory"
   ]
  },
  {
   "cell_type": "code",
   "execution_count": 22,
   "id": "de07a9bb",
   "metadata": {},
   "outputs": [
    {
     "name": "stdout",
     "output_type": "stream",
     "text": [
      "apple\n",
      "banana\n",
      "orange\n",
      "kiwi\n"
     ]
    }
   ],
   "source": [
    "thistuple=(\"apple\",\"banana\",\"orange\",\"kiwi\")\n",
    "for x in thistuple:\n",
    "    print(x)"
   ]
  },
  {
   "cell_type": "code",
   "execution_count": 23,
   "id": "de8a3697",
   "metadata": {},
   "outputs": [
    {
     "name": "stdout",
     "output_type": "stream",
     "text": [
      "ORIGINAL LIST IS:- ['apple', 'banana', 'Orange', 'Kiwi'] \n",
      "\n",
      "LENGTH OF THE LIST IS:- 4 \n",
      "\n",
      "________________________________________________________\n",
      "SORTED LIST IS:- ['Kiwi', 'Orange', 'apple', 'banana'] \n",
      "\n",
      "________________________________________________________\n",
      "DESCENDING LIST IS:- ['banana', 'apple', 'Orange', 'Kiwi'] \n",
      "\n",
      "________________________________________________________\n",
      "REVERSED LIST IS:- ['Kiwi', 'Orange', 'apple', 'banana'] \n",
      "\n",
      "________________________________________________________\n",
      "mylist LIST IS:- ['Kiwi', 'Orange', 'apple', 'banana'] \n",
      "\n"
     ]
    }
   ],
   "source": [
    "thislist=[\"apple\",\"banana\",\"Orange\",\"Kiwi\"]\n",
    "print(\"ORIGINAL LIST IS:-\",thislist,'\\n')\n",
    "print(\"LENGTH OF THE LIST IS:-\",len(thislist),'\\n')\n",
    "\n",
    "print(\"________________________________________________________\")\n",
    "\n",
    "thislist.sort()\n",
    "print(\"SORTED LIST IS:-\",thislist,'\\n')\n",
    "\n",
    "print(\"________________________________________________________\")\n",
    "\n",
    "thislist.sort(reverse=True)\n",
    "print(\"DESCENDING LIST IS:-\",thislist,'\\n')\n",
    "\n",
    "print(\"________________________________________________________\")\n",
    "\n",
    "thislist.reverse()\n",
    "print(\"REVERSED LIST IS:-\",thislist,'\\n')\n",
    "\n",
    "print(\"________________________________________________________\")\n",
    "\n",
    "mylist=thislist.copy()\n",
    "print(\"mylist LIST IS:-\",mylist,'\\n')"
   ]
  },
  {
   "cell_type": "code",
   "execution_count": 24,
   "id": "2733fbaf",
   "metadata": {},
   "outputs": [
    {
     "name": "stdout",
     "output_type": "stream",
     "text": [
      "LIST 1 IS:- [1, 2, 3, 4] \n",
      "\n",
      "LIST 2 IS:- ['a', 'b', 'c'] \n",
      "\n",
      "LIST 3 IS:- [1, 2, 3, 4, 'a', 'b', 'c']\n"
     ]
    }
   ],
   "source": [
    "#JOINING OF LIST\n",
    "\n",
    "l1=[1,2,3,4]\n",
    "l2=[\"a\",\"b\",\"c\"]\n",
    "l3=l1+l2\n",
    "print(\"LIST 1 IS:-\",l1,'\\n')\n",
    "print(\"LIST 2 IS:-\",l2,'\\n')\n",
    "print(\"LIST 3 IS:-\",l3)"
   ]
  },
  {
   "cell_type": "code",
   "execution_count": 25,
   "id": "aa1f9b1d",
   "metadata": {},
   "outputs": [
    {
     "name": "stdout",
     "output_type": "stream",
     "text": [
      "ORIGINAL LIST IS:- [1, 2, 3, 4, 5, 6, 7] \n",
      " _______________________________________________ \n",
      "\n",
      "ACCESSING ELEMENT USING NEGATIVE INDEXING\n",
      "LAST ELEMENT IN THE LIST IS:-  7\n",
      "4\n",
      "[3, 4, 5, 6, 7]\n",
      "[1, 2, 3, 4, 5]\n",
      "[4, 5, 6]\n"
     ]
    }
   ],
   "source": [
    "List=[1,2,3,4,5,6,7]\n",
    "print(\"ORIGINAL LIST IS:-\",List,'\\n',\"_______________________________________________\",'\\n')\n",
    "#negative indexing - helps us analyse last elements in any given dataset\n",
    "print(\"ACCESSING ELEMENT USING NEGATIVE INDEXING\")\n",
    "print(\"LAST ELEMENT IN THE LIST IS:- \",List[-1])\n",
    "print(List[-4])\n",
    "print(List[2:])\n",
    "print(List[:-2])\n",
    "print(List[-4:-1])              # Slicing - retrieve elements in a specified range defined\n",
    "#print(List[-8]) - out of bound limit"
   ]
  },
  {
   "cell_type": "code",
   "execution_count": 1,
   "id": "f3bc0f70",
   "metadata": {},
   "outputs": [
    {
     "name": "stdout",
     "output_type": "stream",
     "text": [
      "['apple', 'blackcurrant', 'watermelon', 'orange', 'kiwi', 'mango']\n"
     ]
    }
   ],
   "source": [
    "#Change a Range of Item Values\n",
    "#To change the value of items within a specific range, define a list with the new values, and refer to the range of index numbers where you want to insert the new values\n",
    "thislist = [\"apple\", \"banana\", \"cherry\", \"orange\", \"kiwi\", \"mango\"]\n",
    "thislist[1:3] = [\"blackcurrant\", \"watermelon\"]\n",
    "print(thislist)"
   ]
  },
  {
   "cell_type": "code",
   "execution_count": 2,
   "id": "15612633",
   "metadata": {},
   "outputs": [
    {
     "name": "stdout",
     "output_type": "stream",
     "text": [
      "['apple', 'blackcurrant', 'watermelon', 'cherry']\n"
     ]
    }
   ],
   "source": [
    "thislist = [\"apple\", \"banana\", \"cherry\"]\n",
    "thislist[1:2] = [\"blackcurrant\", \"watermelon\"]\n",
    "print(thislist)"
   ]
  },
  {
   "cell_type": "code",
   "execution_count": 3,
   "id": "a6d74add",
   "metadata": {},
   "outputs": [
    {
     "name": "stdout",
     "output_type": "stream",
     "text": [
      "['apple', 'watermelon']\n"
     ]
    }
   ],
   "source": [
    "thislist = [\"apple\", \"banana\", \"cherry\"]\n",
    "thislist[1:3] = [\"watermelon\"]\n",
    "print(thislist)"
   ]
  },
  {
   "cell_type": "code",
   "execution_count": 6,
   "id": "80dda5d5",
   "metadata": {},
   "outputs": [
    {
     "name": "stdout",
     "output_type": "stream",
     "text": [
      "['apple', 'banana', 'watermelon', 'cherry']\n",
      "['apple', 'banana', 'watermelon', 'cherry', 'kiwi']\n"
     ]
    }
   ],
   "source": [
    "thislist = [\"apple\", \"banana\", \"cherry\"]\n",
    "thislist.insert(2, \"watermelon\")\n",
    "print(thislist)\n",
    "thislist.insert(4, \"kiwi\")\n",
    "print(thislist)"
   ]
  },
  {
   "attachments": {},
   "cell_type": "markdown",
   "id": "6bc820eb",
   "metadata": {},
   "source": [
    "# Manipulating Tuples & Tuple Methods\n",
    " \n",
    "\n",
    "Manipulating Tuples\n",
    "Tuples are immutable, hence if you want to add, remove or change tuple items, then first you must convert the tuple to a list. Then perform operation on that list and convert it back to tuple.\n",
    "\n",
    "Example:"
   ]
  },
  {
   "cell_type": "code",
   "execution_count": 16,
   "id": "bd7f3173",
   "metadata": {},
   "outputs": [
    {
     "name": "stdout",
     "output_type": "stream",
     "text": [
      "('Spain', 'Italy', 'Finland', 'Germany', 'Russia')\n"
     ]
    }
   ],
   "source": [
    "countries = (\"Spain\", \"Italy\", \"India\", \"England\", \"Germany\")\n",
    "temp = list(countries)\n",
    "temp.append(\"Russia\")       #add item \n",
    "temp.pop(3)                 #remove item\n",
    "temp[2] = \"Finland\"         #change item\n",
    "countries = tuple(temp)\n",
    "print(countries)"
   ]
  },
  {
   "attachments": {},
   "cell_type": "markdown",
   "id": "42a61af0",
   "metadata": {},
   "source": [
    "Thus, we convert the tuple to a list, manipulate items of the list using list methods, then convert list back to a tuple.\n",
    "\n",
    "However, we can directly concatenate two tuples without converting them to list.\n",
    "\n",
    "Example:"
   ]
  },
  {
   "cell_type": "code",
   "execution_count": 17,
   "id": "40255f9f",
   "metadata": {},
   "outputs": [
    {
     "name": "stdout",
     "output_type": "stream",
     "text": [
      "('Pakistan', 'Afghanistan', 'Bangladesh', 'ShriLanka', 'Vietnam', 'India', 'China')\n"
     ]
    }
   ],
   "source": [
    "countries = (\"Pakistan\", \"Afghanistan\", \"Bangladesh\", \"ShriLanka\")\n",
    "countries2 = (\"Vietnam\", \"India\", \"China\")\n",
    "southEastAsia = countries + countries2\n",
    "print(southEastAsia)"
   ]
  },
  {
   "attachments": {},
   "cell_type": "markdown",
   "id": "89f8b1a6",
   "metadata": {},
   "source": [
    "# Tuple methods\n",
    "As tuple is an immutable type of collection of elements it has limited built-in methods. They are explained below\n",
    "\n",
    "# count() Method\n",
    "The count() method of Tuple returns the number of times the given element appears in the tuple.\n",
    "\n",
    "Syntax:\n",
    "tuple.count(element)\n"
   ]
  },
  {
   "cell_type": "code",
   "execution_count": 18,
   "id": "126aa6bc",
   "metadata": {},
   "outputs": [
    {
     "name": "stdout",
     "output_type": "stream",
     "text": [
      "Count of 3 in Tuple1 is: 3\n"
     ]
    }
   ],
   "source": [
    "Tuple1 = (0, 1, 2, 3, 2, 3, 1, 3, 2)\n",
    "res = Tuple1.count(3)\n",
    "print('Count of 3 in Tuple1 is:', res)"
   ]
  },
  {
   "attachments": {},
   "cell_type": "markdown",
   "id": "a4492f0a",
   "metadata": {},
   "source": [
    "# index() method\n",
    "The Index() method returns the first occurrence of the given element from the tuple.\n",
    "\n",
    "Syntax:\n",
    "tuple.index(element, start, end)\n",
    "\n",
    "Note: This method raises a ValueError if the element is not found in the tuple."
   ]
  },
  {
   "cell_type": "code",
   "execution_count": 19,
   "id": "941cfb02",
   "metadata": {},
   "outputs": [
    {
     "name": "stdout",
     "output_type": "stream",
     "text": [
      "First occurrence of 3 is 3\n"
     ]
    }
   ],
   "source": [
    "Tuple = (0, 1, 2, 3, 2, 3, 1, 3, 2)\n",
    "res = Tuple.index(3)\n",
    "print('First occurrence of 3 is', res)"
   ]
  },
  {
   "cell_type": "code",
   "execution_count": 22,
   "id": "bd3eb661",
   "metadata": {},
   "outputs": [
    {
     "name": "stdout",
     "output_type": "stream",
     "text": [
      "count of 3 in tuple is :  5\n"
     ]
    }
   ],
   "source": [
    "tuple1 = (0,1,2,3,2,3,1,3,2,3)\n",
    "re = tuple1.index(3,4,8)\n",
    "print(\"count of 3 in tuple is : \",re)"
   ]
  },
  {
   "cell_type": "code",
   "execution_count": 35,
   "id": "4854541a",
   "metadata": {},
   "outputs": [
    {
     "name": "stdout",
     "output_type": "stream",
     "text": [
      "13\n",
      "good afternoon\n"
     ]
    }
   ],
   "source": [
    "import time\n",
    "t = time.strftime('%H:%M:%S')\n",
    "hour = int(time.strftime('%H'))\n",
    "min = int(time.strftime('%M'))\n",
    "print(hour)\n",
    "\n",
    "if (0<hour<12):\n",
    "    print('good morning')\n",
    "elif (hour>=12 & hour<17):\n",
    "    print('good afternoon')\n",
    "else:\n",
    "    print('good night')"
   ]
  },
  {
   "cell_type": "code",
   "execution_count": 43,
   "id": "1eb8d6ec",
   "metadata": {},
   "outputs": [
    {
     "name": "stdout",
     "output_type": "stream",
     "text": [
      "fizzbuzz\n",
      "1\n",
      "2\n",
      "fizz\n",
      "4\n",
      "buzz\n",
      "fizz\n",
      "7\n",
      "8\n",
      "fizz\n",
      "buzz\n",
      "11\n",
      "fizz\n",
      "13\n",
      "14\n",
      "fizzbuzz\n",
      "16\n",
      "17\n",
      "fizz\n",
      "19\n",
      "buzz\n",
      "fizz\n",
      "22\n",
      "23\n",
      "fizz\n",
      "buzz\n",
      "26\n",
      "fizz\n",
      "28\n",
      "29\n",
      "fizzbuzz\n",
      "31\n",
      "32\n",
      "fizz\n",
      "34\n",
      "buzz\n",
      "fizz\n",
      "37\n",
      "38\n",
      "fizz\n",
      "buzz\n",
      "41\n",
      "fizz\n",
      "43\n",
      "44\n",
      "fizzbuzz\n",
      "46\n",
      "47\n",
      "fizz\n",
      "49\n",
      "buzz\n"
     ]
    }
   ],
   "source": [
    "for fizzbuzz in range(51):\n",
    "    if fizzbuzz % 3 == 0 and fizzbuzz % 5 == 0:\n",
    "        print('fizzbuzz')\n",
    "        # continue\n",
    "    elif fizzbuzz % 3 ==0:\n",
    "        print('fizz')\n",
    "        # continue\n",
    "    elif fizzbuzz % 5 == 0:\n",
    "        print('buzz')\n",
    "        # continue\n",
    "    else:\n",
    "        print(fizzbuzz)\n",
    "    \n",
    "    "
   ]
  }
 ],
 "metadata": {
  "kernelspec": {
   "display_name": "Python 3 (ipykernel)",
   "language": "python",
   "name": "python3"
  },
  "language_info": {
   "codemirror_mode": {
    "name": "ipython",
    "version": 3
   },
   "file_extension": ".py",
   "mimetype": "text/x-python",
   "name": "python",
   "nbconvert_exporter": "python",
   "pygments_lexer": "ipython3",
   "version": "3.11.0"
  }
 },
 "nbformat": 4,
 "nbformat_minor": 5
}
