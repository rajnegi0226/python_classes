{
 "cells": [
  {
   "attachments": {},
   "cell_type": "markdown",
   "id": "b932c6da",
   "metadata": {},
   "source": [
    "# List and Tuple\n",
    "#1) LIST - Lists are mutable \n",
    "           consume more memory \n",
    "           better for performing operations such as insertion and deletion \n",
    "           implication of iteration is time consuming\n",
    "#2) TUPLE - Tuples are immutable \n",
    "            consume less memory \n",
    "            iterartions are faster\n",
    "            apt for accessing the element "
   ]
  },
  {
   "cell_type": "code",
   "execution_count": 17,
   "id": "404aa748",
   "metadata": {},
   "outputs": [
    {
     "name": "stdout",
     "output_type": "stream",
     "text": [
      "ORIGINAL LIST IS:- [1, 2, 3, 4, 5, 6, 7, 8] \n",
      "\n",
      "LENGTH OF THE STRING IS:-  8 \n",
      "\n",
      "UPDATED LIST IS:- [1, 2, 'aplha', 77, 'a', 80, 7, 8]\n"
     ]
    }
   ],
   "source": [
    "List=[1,2,3,4,5,6,7,8]\n",
    "print(\"ORIGINAL LIST IS:-\", List,'\\n')\n",
    "\n",
    "print(\"LENGTH OF THE STRING IS:- \",len(List),'\\n')\n",
    "\n",
    "List[3]=77                          # at index=3 , 77 gets inserted\n",
    "List[5]=80\n",
    "List[4]=\"a\"\n",
    "List[2]=\"aplha\"\n",
    "#List[10]=33                         # Since length of the list is only 8 hence the list cannot be modified beyond the limit\n",
    "print(\"UPDATED LIST IS:-\",List)     # shoes that list can be modified\n"
   ]
  },
  {
   "cell_type": "code",
   "execution_count": 18,
   "id": "327bc8d4",
   "metadata": {},
   "outputs": [
    {
     "name": "stdout",
     "output_type": "stream",
     "text": [
      "ORIGINAL Tuple IS:- (1, 2, 3, 4, 5) \n",
      "\n"
     ]
    },
    {
     "ename": "TypeError",
     "evalue": "'tuple' object does not support item assignment",
     "output_type": "error",
     "traceback": [
      "\u001b[1;31m---------------------------------------------------------------------------\u001b[0m",
      "\u001b[1;31mTypeError\u001b[0m                                 Traceback (most recent call last)",
      "Input \u001b[1;32mIn [18]\u001b[0m, in \u001b[0;36m<cell line: 6>\u001b[1;34m()\u001b[0m\n\u001b[0;32m      3\u001b[0m Tuple1 \u001b[38;5;241m=\u001b[39m(\u001b[38;5;241m1\u001b[39m,\u001b[38;5;241m2\u001b[39m,\u001b[38;5;241m3\u001b[39m,\u001b[38;5;241m4\u001b[39m,\u001b[38;5;241m5\u001b[39m)\n\u001b[0;32m      4\u001b[0m \u001b[38;5;28mprint\u001b[39m(\u001b[38;5;124m\"\u001b[39m\u001b[38;5;124mORIGINAL Tuple IS:-\u001b[39m\u001b[38;5;124m\"\u001b[39m, Tuple1,\u001b[38;5;124m'\u001b[39m\u001b[38;5;130;01m\\n\u001b[39;00m\u001b[38;5;124m'\u001b[39m)\n\u001b[1;32m----> 6\u001b[0m Tuple1[\u001b[38;5;241m3\u001b[39m]\u001b[38;5;241m=\u001b[39m\u001b[38;5;241m77\u001b[39m                              \u001b[38;5;66;03m# at index=3 , 77 gets inserted\u001b[39;00m\n\u001b[0;32m      8\u001b[0m \u001b[38;5;28mprint\u001b[39m(\u001b[38;5;124m\"\u001b[39m\u001b[38;5;124mUPDATED Tuple IS:-\u001b[39m\u001b[38;5;124m\"\u001b[39m,Tuple1)      \u001b[38;5;66;03m# shoes that list can be modified\u001b[39;00m\n\u001b[0;32m      9\u001b[0m \u001b[38;5;28mprint\u001b[39m(\u001b[38;5;124m\"\u001b[39m\u001b[38;5;124mTUPLES ARE IMMUTABLE\u001b[39m\u001b[38;5;124m\"\u001b[39m)\n",
      "\u001b[1;31mTypeError\u001b[0m: 'tuple' object does not support item assignment"
     ]
    }
   ],
   "source": [
    "# Tuples are immutable\n",
    "# Tuples do not have in built methods\n",
    "\n",
    "Tuple1 =(1,2,3,4,5)\n",
    "print(\"ORIGINAL Tuple IS:-\", Tuple1,'\\n')\n",
    "\n",
    "Tuple1[3]=77                              # at index=3 , 77 does not get inserted\n",
    "\n",
    "print(\"UPDATED Tuple IS:-\",Tuple1)       # shoes that tuples cannot be modified\n",
    "print(\"TUPLES ARE IMMUTABLE\")\n"
   ]
  },
  {
   "cell_type": "code",
   "execution_count": 20,
   "id": "b3da2300",
   "metadata": {},
   "outputs": [
    {
     "name": "stdout",
     "output_type": "stream",
     "text": [
      "120\n",
      "64\n"
     ]
    }
   ],
   "source": [
    "import sys                                  # sys library - used to know the compile time/runtime memory\n",
    "a_list=[\"My\",\"name\",\"is Python\"]            # O/P in bytes\n",
    "a_tuple=(\"My\",\"name\",\"is Python\")\n",
    "print(sys.getsizeof(a_list))                # List occupies more memory because it allows modification\n",
    "print(sys.getsizeof(a_tuple))               # Tuple occupies less memory"
   ]
  },
  {
   "cell_type": "code",
   "execution_count": 22,
   "id": "de07a9bb",
   "metadata": {},
   "outputs": [
    {
     "name": "stdout",
     "output_type": "stream",
     "text": [
      "apple\n",
      "banana\n",
      "orange\n",
      "kiwi\n"
     ]
    }
   ],
   "source": [
    "thistuple=(\"apple\",\"banana\",\"orange\",\"kiwi\")\n",
    "for x in thistuple:\n",
    "    print(x)"
   ]
  },
  {
   "cell_type": "code",
   "execution_count": 23,
   "id": "de8a3697",
   "metadata": {},
   "outputs": [
    {
     "name": "stdout",
     "output_type": "stream",
     "text": [
      "ORIGINAL LIST IS:- ['apple', 'banana', 'Orange', 'Kiwi'] \n",
      "\n",
      "LENGTH OF THE LIST IS:- 4 \n",
      "\n",
      "________________________________________________________\n",
      "SORTED LIST IS:- ['Kiwi', 'Orange', 'apple', 'banana'] \n",
      "\n",
      "________________________________________________________\n",
      "DESCENDING LIST IS:- ['banana', 'apple', 'Orange', 'Kiwi'] \n",
      "\n",
      "________________________________________________________\n",
      "REVERSED LIST IS:- ['Kiwi', 'Orange', 'apple', 'banana'] \n",
      "\n",
      "________________________________________________________\n",
      "mylist LIST IS:- ['Kiwi', 'Orange', 'apple', 'banana'] \n",
      "\n"
     ]
    }
   ],
   "source": [
    "thislist=[\"apple\",\"banana\",\"Orange\",\"Kiwi\"]\n",
    "print(\"ORIGINAL LIST IS:-\",thislist,'\\n')\n",
    "print(\"LENGTH OF THE LIST IS:-\",len(thislist),'\\n')\n",
    "\n",
    "print(\"________________________________________________________\")\n",
    "\n",
    "thislist.sort()\n",
    "print(\"SORTED LIST IS:-\",thislist,'\\n')\n",
    "\n",
    "print(\"________________________________________________________\")\n",
    "\n",
    "thislist.sort(reverse=True)\n",
    "print(\"DESCENDING LIST IS:-\",thislist,'\\n')\n",
    "\n",
    "print(\"________________________________________________________\")\n",
    "\n",
    "thislist.reverse()\n",
    "print(\"REVERSED LIST IS:-\",thislist,'\\n')\n",
    "\n",
    "print(\"________________________________________________________\")\n",
    "\n",
    "mylist=thislist.copy()\n",
    "print(\"mylist LIST IS:-\",mylist,'\\n')"
   ]
  },
  {
   "cell_type": "code",
   "execution_count": 24,
   "id": "2733fbaf",
   "metadata": {},
   "outputs": [
    {
     "name": "stdout",
     "output_type": "stream",
     "text": [
      "LIST 1 IS:- [1, 2, 3, 4] \n",
      "\n",
      "LIST 2 IS:- ['a', 'b', 'c'] \n",
      "\n",
      "LIST 3 IS:- [1, 2, 3, 4, 'a', 'b', 'c']\n"
     ]
    }
   ],
   "source": [
    "#JOINING OF LIST\n",
    "\n",
    "l1=[1,2,3,4]\n",
    "l2=[\"a\",\"b\",\"c\"]\n",
    "l3=l1+l2\n",
    "print(\"LIST 1 IS:-\",l1,'\\n')\n",
    "print(\"LIST 2 IS:-\",l2,'\\n')\n",
    "print(\"LIST 3 IS:-\",l3)"
   ]
  },
  {
   "cell_type": "code",
   "execution_count": 25,
   "id": "aa1f9b1d",
   "metadata": {},
   "outputs": [
    {
     "name": "stdout",
     "output_type": "stream",
     "text": [
      "ORIGINAL LIST IS:- [1, 2, 3, 4, 5, 6, 7] \n",
      " _______________________________________________ \n",
      "\n",
      "ACCESSING ELEMENT USING NEGATIVE INDEXING\n",
      "LAST ELEMENT IN THE LIST IS:-  7\n",
      "4\n",
      "[3, 4, 5, 6, 7]\n",
      "[1, 2, 3, 4, 5]\n",
      "[4, 5, 6]\n"
     ]
    }
   ],
   "source": [
    "List=[1,2,3,4,5,6,7]\n",
    "print(\"ORIGINAL LIST IS:-\",List,'\\n',\"_______________________________________________\",'\\n')\n",
    "#negative indexing - helps us analyse last elements in any given dataset\n",
    "print(\"ACCESSING ELEMENT USING NEGATIVE INDEXING\")\n",
    "print(\"LAST ELEMENT IN THE LIST IS:- \",List[-1])\n",
    "print(List[-4])\n",
    "print(List[2:])\n",
    "print(List[:-2])\n",
    "print(List[-4:-1])              # Slicing - retrieve elements in a specified range defined\n",
    "#print(List[-8]) - out of bound limit"
   ]
  },
  {
   "cell_type": "code",
   "execution_count": 1,
   "id": "f3bc0f70",
   "metadata": {},
   "outputs": [
    {
     "name": "stdout",
     "output_type": "stream",
     "text": [
      "['apple', 'blackcurrant', 'watermelon', 'orange', 'kiwi', 'mango']\n"
     ]
    }
   ],
   "source": [
    "#Change a Range of Item Values\n",
    "#To change the value of items within a specific range, define a list with the new values, and refer to the range of index numbers where you want to insert the new values\n",
    "thislist = [\"apple\", \"banana\", \"cherry\", \"orange\", \"kiwi\", \"mango\"]\n",
    "thislist[1:3] = [\"blackcurrant\", \"watermelon\"]\n",
    "print(thislist)"
   ]
  },
  {
   "cell_type": "code",
   "execution_count": 2,
   "id": "15612633",
   "metadata": {},
   "outputs": [
    {
     "name": "stdout",
     "output_type": "stream",
     "text": [
      "['apple', 'blackcurrant', 'watermelon', 'cherry']\n"
     ]
    }
   ],
   "source": [
    "thislist = [\"apple\", \"banana\", \"cherry\"]\n",
    "thislist[1:2] = [\"blackcurrant\", \"watermelon\"]\n",
    "print(thislist)"
   ]
  },
  {
   "cell_type": "code",
   "execution_count": 3,
   "id": "a6d74add",
   "metadata": {},
   "outputs": [
    {
     "name": "stdout",
     "output_type": "stream",
     "text": [
      "['apple', 'watermelon']\n"
     ]
    }
   ],
   "source": [
    "thislist = [\"apple\", \"banana\", \"cherry\"]\n",
    "thislist[1:3] = [\"watermelon\"]\n",
    "print(thislist)"
   ]
  },
  {
   "cell_type": "code",
   "execution_count": 6,
   "id": "80dda5d5",
   "metadata": {},
   "outputs": [
    {
     "name": "stdout",
     "output_type": "stream",
     "text": [
      "['apple', 'banana', 'watermelon', 'cherry']\n",
      "['apple', 'banana', 'watermelon', 'cherry', 'kiwi']\n"
     ]
    }
   ],
   "source": [
    "thislist = [\"apple\", \"banana\", \"cherry\"]\n",
    "thislist.insert(2, \"watermelon\")\n",
    "print(thislist)\n",
    "thislist.insert(4, \"kiwi\")\n",
    "print(thislist)"
   ]
  },
  {
   "cell_type": "code",
   "execution_count": null,
   "id": "6bc820eb",
   "metadata": {},
   "outputs": [],
   "source": []
  }
 ],
 "metadata": {
  "kernelspec": {
   "display_name": "Python 3 (ipykernel)",
   "language": "python",
   "name": "python3"
  },
  "language_info": {
   "codemirror_mode": {
    "name": "ipython",
    "version": 3
   },
   "file_extension": ".py",
   "mimetype": "text/x-python",
   "name": "python",
   "nbconvert_exporter": "python",
   "pygments_lexer": "ipython3",
   "version": "3.11.0"
  }
 },
 "nbformat": 4,
 "nbformat_minor": 5
}
