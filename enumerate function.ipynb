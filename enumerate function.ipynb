{
 "cells": [
  {
   "cell_type": "code",
   "execution_count": 1,
   "metadata": {},
   "outputs": [
    {
     "name": "stdout",
     "output_type": "stream",
     "text": [
      "0 code\n",
      "1 with\n",
      "2 harry\n"
     ]
    }
   ],
   "source": [
    "list_1=[\"code\",\"with\",\"harry\"]\n",
    "for index,val in enumerate(list_1):\n",
    "    print(index,val)"
   ]
  },
  {
   "cell_type": "code",
   "execution_count": 2,
   "metadata": {},
   "outputs": [
    {
     "name": "stdout",
     "output_type": "stream",
     "text": [
      "[(5, 'Python'), (6, 'Programming'), (7, 'Is'), (8, 'Fun')]\n"
     ]
    }
   ],
   "source": [
    "# example 2\n",
    "list_2 = [\"Python\", \"Programming\", \"Is\", \"Fun\"]\n",
    "#Counter value starts from 5\n",
    "result = enumerate(list_2, 5)\n",
    "print(list(result))"
   ]
  },
  {
   "cell_type": "code",
   "execution_count": 3,
   "metadata": {},
   "outputs": [
    {
     "name": "stdout",
     "output_type": "stream",
     "text": [
      "Jarvis please buy Bhindi\n",
      "Jarvis please buy chopsticks\n"
     ]
    }
   ],
   "source": [
    "# example 3\n",
    "l1 = [\"Bhindi\", \"Aloo\", \"chopsticks\", \"chowmein\"]\n",
    "\n",
    "# i = 1\n",
    "# for item in l1:\n",
    "#     if i%2 is not 0:\n",
    "#         print(f\"Jarvis please buy {item}\")\n",
    "#     i += 1\n",
    "\n",
    "for index, item in enumerate(l1):\n",
    "    if index % 2 == 0:\n",
    "        print(f\"Jarvis please buy {item}\")"
   ]
  }
 ],
 "metadata": {
  "kernelspec": {
   "display_name": "Python 3",
   "language": "python",
   "name": "python3"
  },
  "language_info": {
   "codemirror_mode": {
    "name": "ipython",
    "version": 3
   },
   "file_extension": ".py",
   "mimetype": "text/x-python",
   "name": "python",
   "nbconvert_exporter": "python",
   "pygments_lexer": "ipython3",
   "version": "3.11.0"
  },
  "orig_nbformat": 4
 },
 "nbformat": 4,
 "nbformat_minor": 2
}
