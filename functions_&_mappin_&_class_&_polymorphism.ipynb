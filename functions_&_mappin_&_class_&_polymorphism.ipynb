{
 "cells": [
  {
   "attachments": {},
   "cell_type": "markdown",
   "id": "0b461844",
   "metadata": {},
   "source": [
    "Function is define by \" def \" key word and then after function name and \".__doc__\" use for printing docstring of function.\n",
    "1. doc string use for giving message to user of funtion that what fuction has do or how can it use \n",
    "2. def name_of_fuction(arrgument):\n",
    "        '''doc string'''\n",
    "        syntax"
   ]
  },
  {
   "cell_type": "code",
   "execution_count": 3,
   "id": "35667b08",
   "metadata": {},
   "outputs": [
    {
     "name": "stdout",
     "output_type": "stream",
     "text": [
      "factorial is : 6\n"
     ]
    },
    {
     "data": {
      "text/plain": [
       "'this function is gives the factorial'"
      ]
     },
     "execution_count": 3,
     "metadata": {},
     "output_type": "execute_result"
    }
   ],
   "source": [
    "def\\\n",
    "    factorial(a):  # name of function\n",
    "        '''this function is gives the factorial'''  # doc string\n",
    "        factorial = 1\n",
    "        if num < 0:\n",
    "            print('input must be a positive number : ')\n",
    "        elif num == 0:\n",
    "            print('factorial is 1')\n",
    "        else:\n",
    "            for i in range(1, num+1):\n",
    "                factorial = factorial * i\n",
    "        print(f\"factorial is : {factorial}\")\n",
    "num = int(input())\n",
    "factorial(num)\n",
    "factorial.__doc__"
   ]
  },
  {
   "cell_type": "code",
   "execution_count": null,
   "id": "93c1c03f",
   "metadata": {},
   "outputs": [],
   "source": [
    "def prime(a):\n",
    "    '''this function identify number is prime or not'''\n",
    "    if a <=1:\n",
    "        return 'the no. is not prime no. '\n",
    "    else:\n",
    "        for i in range(2,int(a**0.5)+1):\n",
    "            if a%i==0:\n",
    "                return 'the no. is not prime '\n",
    "        return 'the no. is prime no.'\n",
    "\n",
    "print(prime(int(input('enter your no.: '))))"
   ]
  },
  {
   "cell_type": "code",
   "execution_count": 2,
   "id": "ac8d8469",
   "metadata": {},
   "outputs": [
    {
     "data": {
      "text/plain": [
       "(54.0, ' percent')"
      ]
     },
     "execution_count": 2,
     "metadata": {},
     "output_type": "execute_result"
    }
   ],
   "source": [
    "def percent(total_marks,score_marks):\n",
    "    '''this function gives you a percentage'''\n",
    "    try:\n",
    "        percentage = (score_marks/total_marks)*100\n",
    "        return percentage\n",
    "    except:'invalid input'\n",
    "percent(int(input('enter your total marks: ')),int(input('enter your score marks: ')))"
   ]
  },
  {
   "attachments": {},
   "cell_type": "markdown",
   "id": "98ca8fe7",
   "metadata": {},
   "source": [
    "1. Lambda func are called anonymous func because they are not decalred in the std manner by using the def keyword. \n",
    "2. Lambda forms can take any no of arguments but return just one value in the form of an expression.\n",
    "3. they cannot contain commands or multiple expressions.\n",
    "4. Cannot be directly called to print because lamba req. an expression,\n",
    "5. have their own local namespace and cannot access variables other tahn those in their parameter list and those in global namespace"
   ]
  },
  {
   "cell_type": "code",
   "execution_count": 4,
   "id": "d603179d",
   "metadata": {},
   "outputs": [
    {
     "name": "stdout",
     "output_type": "stream",
     "text": [
      "TOTAL SUM: 30\n",
      "TOTAL SUM: 40\n"
     ]
    }
   ],
   "source": [
    "sum=lambda arg1,arg2: arg1+arg2;\n",
    "print(\"TOTAL SUM:\",sum(10,20))\n",
    "print(\"TOTAL SUM:\",sum(20,20))"
   ]
  },
  {
   "cell_type": "code",
   "execution_count": 5,
   "id": "49d109d2",
   "metadata": {},
   "outputs": [
    {
     "name": "stdout",
     "output_type": "stream",
     "text": [
      "80\n"
     ]
    }
   ],
   "source": [
    "min=lambda x,y:x if (x<y) else y;\n",
    "print(min(100,80))"
   ]
  },
  {
   "cell_type": "code",
   "execution_count": 6,
   "id": "12520b79",
   "metadata": {
    "scrolled": true
   },
   "outputs": [
    {
     "name": "stdout",
     "output_type": "stream",
     "text": [
      "100\n"
     ]
    }
   ],
   "source": [
    "max=lambda x,y:x if (x>y) else y;\n",
    "print(max(100,80))"
   ]
  },
  {
   "attachments": {},
   "cell_type": "markdown",
   "id": "4e319db1",
   "metadata": {},
   "source": [
    "# mapping"
   ]
  },
  {
   "cell_type": "code",
   "execution_count": 3,
   "id": "d90d08c5",
   "metadata": {},
   "outputs": [
    {
     "name": "stdout",
     "output_type": "stream",
     "text": [
      "[True, False, False, True, False]\n"
     ]
    }
   ],
   "source": [
    "#without using lambdas\n",
    "def starts_with_A(s):\n",
    "        return s[0]=='A'\n",
    "\n",
    "fruit = ['Apple','Banana','Pear','Apricot','Orange']\n",
    "map_object = map(starts_with_A, fruit)\n",
    "print(list(map_object))"
   ]
  },
  {
   "cell_type": "code",
   "execution_count": 10,
   "id": "9555b920",
   "metadata": {},
   "outputs": [
    {
     "name": "stdout",
     "output_type": "stream",
     "text": [
      "[True, False, False, True, False]\n"
     ]
    }
   ],
   "source": [
    "fruit = ['Apple','Banana','Pear','Apricot','Orange']\n",
    "map_object = map(lambda s:s[0]=='A', fruit)\n",
    "print(list(map_object))"
   ]
  },
  {
   "attachments": {},
   "cell_type": "markdown",
   "id": "cd9e7b77",
   "metadata": {},
   "source": [
    "# filter"
   ]
  },
  {
   "cell_type": "code",
   "execution_count": 8,
   "id": "5fcbd919",
   "metadata": {},
   "outputs": [
    {
     "name": "stdout",
     "output_type": "stream",
     "text": [
      "['Apple', 'Apricot']\n"
     ]
    }
   ],
   "source": [
    "# without using lambda\n",
    "def satrts_with_A(s):\n",
    "    return s[0] == 'A'\n",
    "fruit = ['Apple','Banana','Pear','Apricot','Orange']\n",
    "filter_object = filter(satrts_with_A, fruit)\n",
    "print(list(filter_object))"
   ]
  },
  {
   "cell_type": "code",
   "execution_count": 9,
   "id": "f8556f49",
   "metadata": {
    "scrolled": true
   },
   "outputs": [
    {
     "name": "stdout",
     "output_type": "stream",
     "text": [
      "['Apple', 'Apricot']\n"
     ]
    }
   ],
   "source": [
    "fruit = ['Apple','Banana','Pear','Apricot','Orange']\n",
    "filter_object = filter(lambda s: s[0]=='A', fruit)\n",
    "print(list(filter_object))"
   ]
  },
  {
   "attachments": {},
   "cell_type": "markdown",
   "id": "07f99322",
   "metadata": {},
   "source": [
    "# reduce"
   ]
  },
  {
   "cell_type": "code",
   "execution_count": 13,
   "id": "8d22d6ef",
   "metadata": {},
   "outputs": [
    {
     "name": "stdout",
     "output_type": "stream",
     "text": [
      "16\n"
     ]
    }
   ],
   "source": [
    "from functools import reduce\n",
    "def add(x,y):\n",
    "    return x + y\n",
    "list = [2,4,7,3]\n",
    "print(reduce(add, list))"
   ]
  },
  {
   "cell_type": "code",
   "execution_count": 16,
   "id": "ac5d71af",
   "metadata": {},
   "outputs": [
    {
     "name": "stdout",
     "output_type": "stream",
     "text": [
      "16\n"
     ]
    }
   ],
   "source": [
    "from functools import reduce\n",
    "\n",
    "list = [2,4,7,3]\n",
    "print(reduce(lambda x, y : x + y, list))"
   ]
  },
  {
   "attachments": {},
   "cell_type": "markdown",
   "id": "c207f2b4",
   "metadata": {},
   "source": [
    "# class keyword"
   ]
  },
  {
   "cell_type": "code",
   "execution_count": 18,
   "id": "1ccac2c6",
   "metadata": {},
   "outputs": [
    {
     "name": "stdout",
     "output_type": "stream",
     "text": [
      "blue is 10 year old\n",
      "woo is 15 year old\n"
     ]
    }
   ],
   "source": [
    "class Parrot:\n",
    "    #class attribute\n",
    "    name = ''\n",
    "    age = 0\n",
    "#creat parrot1 object\n",
    "parrot1 = Parrot()\n",
    "parrot1.name = 'blue'\n",
    "parrot1.age = 10\n",
    "#creat another object parrot2\n",
    "parrot2 = Parrot()\n",
    "parrot2.name = 'woo'\n",
    "parrot2.age = 15\n",
    "#access attributes\n",
    "print(f\"{parrot1.name} is {parrot1.age} year old\")# F-String\n",
    "print(f\"{parrot2.name} is {parrot2.age} year old\")"
   ]
  },
  {
   "cell_type": "code",
   "execution_count": 21,
   "id": "36b6b255",
   "metadata": {},
   "outputs": [
    {
     "name": "stdout",
     "output_type": "stream",
     "text": [
      "True\n"
     ]
    }
   ],
   "source": [
    "class emp:\n",
    "    def check_age_eligiblity(self): # self as the first argument student1 obj\n",
    "        if self.age >= 30:\n",
    "            return True\n",
    "        else:\n",
    "            False\n",
    "            \n",
    "emp1 = emp()\n",
    "emp1.name = 'Virat'\n",
    "emp1.age = 34\n",
    "\n",
    "eligiblity = emp1.check_age_eligiblity()\n",
    "print(eligiblity)"
   ]
  },
  {
   "cell_type": "code",
   "execution_count": 24,
   "id": "43065c9c",
   "metadata": {},
   "outputs": [
    {
     "name": "stdout",
     "output_type": "stream",
     "text": [
      "None\n"
     ]
    }
   ],
   "source": [
    "class emp:\n",
    "    def check_age_eligiblity(self): # self as the first argument student1 obj\n",
    "        if self.age >= 30:\n",
    "            return True\n",
    "        else:\n",
    "            False\n",
    "            \n",
    "emp1 = emp()\n",
    "emp1.name = 'Virat'\n",
    "emp1.age = 34\n",
    "\n",
    "emp2 = emp()\n",
    "emp2.name = 'Rishabh'\n",
    "emp2.age = 24\n",
    "\n",
    "eligiblity = emp2.check_age_eligiblity()\n",
    "print(eligiblity)"
   ]
  },
  {
   "cell_type": "code",
   "execution_count": 29,
   "id": "44283d94",
   "metadata": {},
   "outputs": [
    {
     "name": "stdout",
     "output_type": "stream",
     "text": [
      "True\n"
     ]
    }
   ],
   "source": [
    "class emp:\n",
    "    def check_age_eligiblity(self): \n",
    "        if self.age >= 30:\n",
    "            return True\n",
    "        else:\n",
    "            return False\n",
    "    def __init__(self, name, age):\n",
    "        self.name = name\n",
    "        self.age = age\n",
    "            \n",
    "emp1 = emp('Virat', 34)\n",
    "eligiblity = emp1.check_age_eligiblity()\n",
    "print(eligiblity)"
   ]
  },
  {
   "cell_type": "code",
   "execution_count": 32,
   "id": "e657eae0",
   "metadata": {},
   "outputs": [
    {
     "name": "stdout",
     "output_type": "stream",
     "text": [
      "I can eat!\n",
      "I can sleep!\n",
      "I can brak! woof woof!!\n"
     ]
    }
   ],
   "source": [
    "class Animal:\n",
    "    \n",
    "    def eat(self):\n",
    "        print('I can eat!')\n",
    "    \n",
    "    def sleep(self):\n",
    "        print('I can sleep!')\n",
    "        \n",
    "class Dog(Animal):\n",
    "    \n",
    "    def bark(self):\n",
    "        print('Ican bark! woof woof!!')\n",
    "        \n",
    "#base class\n",
    "class Animal:\n",
    "    def eat(self):\n",
    "        print(\"I can eat!\")\n",
    "        \n",
    "    def sleep(self):\n",
    "        print(\"I can sleep!\")\n",
    "        \n",
    "        \n",
    "#derived class\n",
    "class Dog(Animal):\n",
    "    \n",
    "    def brak(self):\n",
    "        print(\"I can brak! woof woof!!\")\n",
    "        \n",
    "        \n",
    "#creat object of the Dog class      \n",
    "dog1 = Dog()\n",
    "\n",
    "#calling member of the base class\n",
    "dog1.eat()\n",
    "dog1.sleep()\n",
    "\n",
    "#calling member of the derived class\n",
    "dog1.brak();\n"
   ]
  },
  {
   "cell_type": "code",
   "execution_count": 3,
   "id": "ecc37b17",
   "metadata": {},
   "outputs": [
    {
     "name": "stdout",
     "output_type": "stream",
     "text": [
      "Selling Price: 900\n",
      "Selling Price: 900\n",
      "Selling Price: 1000\n"
     ]
    }
   ],
   "source": [
    "class Computer:\n",
    "    \n",
    "    def __init__(self):\n",
    "        self.__maxprice = 900\n",
    "        \n",
    "    def sell(self):\n",
    "        print('Selling Price: {}'.format(self.__maxprice))\n",
    "        \n",
    "    def setMaxPrice(self, price):\n",
    "        self.__maxprice = price\n",
    "        \n",
    "c = Computer()\n",
    "c.sell()\n",
    "\n",
    "# change the price\n",
    "c.__maxprice = 1000\n",
    "c.sell()\n",
    "\n",
    "#using setter function\n",
    "c.setMaxPrice(1000)\n",
    "c.sell()"
   ]
  },
  {
   "attachments": {},
   "cell_type": "markdown",
   "id": "202c1140",
   "metadata": {},
   "source": [
    "# python polymorphism"
   ]
  },
  {
   "cell_type": "code",
   "execution_count": 8,
   "id": "bf7ae240",
   "metadata": {},
   "outputs": [
    {
     "name": "stdout",
     "output_type": "stream",
     "text": [
      "rendering polygon\n"
     ]
    }
   ],
   "source": [
    "class Polygon:\n",
    "    # method to render polygon\n",
    "    def render(self):\n",
    "        print('rendering polygon')\n",
    "class Square(Polygon):\n",
    "    # render Square\n",
    "    def render(self):\n",
    "        print('rendering square')\n",
    "\n",
    "pg = Polygon()\n",
    "pg.render()"
   ]
  }
 ],
 "metadata": {
  "kernelspec": {
   "display_name": "Python 3 (ipykernel)",
   "language": "python",
   "name": "python3"
  },
  "language_info": {
   "codemirror_mode": {
    "name": "ipython",
    "version": 3
   },
   "file_extension": ".py",
   "mimetype": "text/x-python",
   "name": "python",
   "nbconvert_exporter": "python",
   "pygments_lexer": "ipython3",
   "version": "3.11.0"
  }
 },
 "nbformat": 4,
 "nbformat_minor": 5
}
