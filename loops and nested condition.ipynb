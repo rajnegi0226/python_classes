{
 "cells": [
  {
   "attachments": {},
   "cell_type": "markdown",
   "metadata": {
    "colab": {
     "base_uri": "https://localhost:8080/",
     "height": 398
    },
    "id": "JAnMksiMjXTv",
    "outputId": "4985e7e6-1a0a-4738-e2f3-cfc541b092b8"
   },
   "source": [
    "# for loop"
   ]
  },
  {
   "cell_type": "code",
   "execution_count": 1,
   "metadata": {
    "colab": {
     "base_uri": "https://localhost:8080/"
    },
    "id": "HXWN9mqUhXav",
    "outputId": "a223a7ee-2610-482c-d400-ce0d25defa70"
   },
   "outputs": [
    {
     "name": "stdout",
     "output_type": "stream",
     "text": [
      "number 1\n",
      "number 2\n",
      "number 3\n",
      "number 4\n",
      "number 5\n",
      "number 6\n",
      "number 7\n",
      "number 8\n",
      "number 9\n"
     ]
    }
   ],
   "source": [
    "list = [1,2,3,4,5,6,7,8,9]\n",
    "for item in list :\n",
    "    print('number',item)"
   ]
  },
  {
   "attachments": {},
   "cell_type": "markdown",
   "metadata": {},
   "source": [
    "# while loop"
   ]
  },
  {
   "cell_type": "code",
   "execution_count": 44,
   "metadata": {
    "colab": {
     "base_uri": "https://localhost:8080/"
    },
    "id": "sjw9csU9z_CK",
    "outputId": "00841e59-fed6-4cfa-bdaa-9f039a470052"
   },
   "outputs": [
    {
     "name": "stdout",
     "output_type": "stream",
     "text": [
      "the count is : 0\n",
      "the count is : 1\n",
      "the count is : 2\n",
      "the count is : 3\n",
      "the count is : 4\n",
      "the count is : 5\n",
      "the count is : 6\n",
      "the count is : 7\n",
      "the count is : 8\n",
      "the count is : 9\n",
      "the count is : 10\n",
      "the count is : 11\n",
      "the count is : 12\n",
      "the count is : 13\n",
      "the count is : 14\n",
      "the count is : 15\n",
      "the count is : 16\n",
      "the count is : 17\n",
      "the count is : 18\n",
      "the count is : 19\n",
      "the count is : 20\n",
      "the count is : 21\n",
      "the count is : 22\n",
      "the count is : 23\n",
      "the count is : 24\n",
      "the count is : 25\n",
      "the count is : 26\n",
      "the count is : 27\n",
      "the count is : 28\n",
      "the count is : 29\n",
      "the count is : 30\n",
      "the count is : 31\n",
      "the count is : 32\n",
      "the count is : 33\n",
      "the count is : 34\n",
      "the count is : 35\n",
      "the count is : 36\n",
      "the count is : 37\n",
      "the count is : 38\n",
      "the count is : 39\n",
      "the count is : 40\n",
      "the count is : 41\n",
      "the count is : 42\n",
      "the count is : 43\n",
      "the count is : 44\n",
      "the count is : 45\n",
      "the count is : 46\n",
      "the count is : 47\n",
      "the count is : 48\n",
      "the count is : 49\n",
      "the count is : 50\n",
      "the count is : 51\n",
      "the count is : 52\n",
      "the count is : 53\n",
      "the count is : 54\n",
      "the count is : 55\n",
      "the count is : 56\n",
      "the count is : 57\n",
      "the count is : 58\n",
      "the count is : 59\n",
      "the count is : 60\n",
      "the count is : 61\n",
      "the count is : 62\n",
      "the count is : 63\n",
      "the count is : 64\n",
      "the count is : 65\n",
      "the count is : 66\n",
      "the count is : 67\n",
      "the count is : 68\n",
      "the count is : 69\n",
      "the count is : 70\n",
      "the count is : 71\n",
      "the count is : 72\n",
      "the count is : 73\n",
      "the count is : 74\n",
      "the count is : 75\n",
      "the count is : 76\n",
      "the count is : 77\n",
      "the count is : 78\n",
      "the count is : 79\n",
      "the count is : 80\n",
      "the count is : 81\n",
      "the count is : 82\n",
      "the count is : 83\n",
      "the count is : 84\n",
      "the count is : 85\n",
      "the count is : 86\n",
      "the count is : 87\n",
      "the count is : 88\n",
      "the count is : 89\n",
      "the count is : 90\n",
      "the count is : 91\n",
      "the count is : 92\n",
      "the count is : 93\n",
      "the count is : 94\n",
      "the count is : 95\n",
      "the count is : 96\n",
      "the count is : 97\n",
      "the count is : 98\n",
      "the count is : 99\n",
      "good bye!\n"
     ]
    }
   ],
   "source": [
    "count = 0\n",
    "while (count < 100):\n",
    "    print('the count is :',count)\n",
    "    count = count + 1\n",
    "\n",
    "print('good bye!')"
   ]
  },
  {
   "cell_type": "code",
   "execution_count": null,
   "metadata": {},
   "outputs": [],
   "source": [
    "count = 0\n",
    "while (count < 10):\n",
    "    print('the count is :',count)\n",
    "    count = count + 1\n",
    "\n",
    "print('good bye!')"
   ]
  },
  {
   "cell_type": "code",
   "execution_count": 1,
   "metadata": {},
   "outputs": [
    {
     "name": "stdout",
     "output_type": "stream",
     "text": [
      "no. of guesses\n",
      "number too large\n",
      "no. of guesses\n",
      "number too small\n",
      "no. of guesses\n",
      "number too large\n",
      "no. of guesses\n",
      "number too small\n",
      "no. of guesses\n",
      "sorry that you're giving up!\n"
     ]
    },
    {
     "data": {
      "text/plain": [
       "'game over'"
      ]
     },
     "execution_count": 1,
     "metadata": {},
     "output_type": "execute_result"
    }
   ],
   "source": [
    "# guess the number \n",
    "import random \n",
    "n = 20 \n",
    "to_guess = int(n*random.random())\n",
    "guess = 0\n",
    "i = 0\n",
    "while guess !=to_guess and i < 5 :\n",
    "    print('no. of guesses')\n",
    "    i = i + 1\n",
    "    guess = int(input('new number'))\n",
    "    if guess > 0:\n",
    "        if guess > to_guess:\n",
    "            print(\"number too large\")\n",
    "        elif guess < to_guess:\n",
    "            print('number too small')\n",
    "        else:\n",
    "             print(\"sorry that you're giving up!\")\n",
    "             break\n",
    "        \n",
    "    else:\n",
    "        print('congratulations. you made it')\n",
    "'game over' if i==5 else 'game over'"
   ]
  },
  {
   "cell_type": "code",
   "execution_count": 14,
   "metadata": {},
   "outputs": [
    {
     "name": "stdout",
     "output_type": "stream",
     "text": [
      "input error\n"
     ]
    }
   ],
   "source": [
    "# try and exception handeling\n",
    "import random \n",
    "n = 20 \n",
    "to_guess = int(n*random.random())\n",
    "guess = 0\n",
    "while guess !=to_guess: \n",
    "    try:\n",
    "        guess = int(input('new number'))\n",
    "        if guess > 0:\n",
    "            if guess > to_guess:\n",
    "                print(\"number too large\")\n",
    "            elif guess < to_guess:\n",
    "                print('number too small')\n",
    "            else:\n",
    "                print(\"sorry that you're giving up!\")\n",
    "                break \n",
    "        else:\n",
    "            print('congratulations. you made it')\n",
    "    except Exception as e:\n",
    "        print('input error')\n",
    "        break "
   ]
  },
  {
   "cell_type": "code",
   "execution_count": null,
   "metadata": {},
   "outputs": [],
   "source": [
    "x = 18\n",
    "im = 0\n",
    "while(im<=8):\n",
    "    x = int(input())\n",
    "    if im ==8:\n",
    "        print('no more guesses')\n",
    "        break\n",
    "    im = im + 1\n",
    "    if x<18:\n",
    "        print('tlgg')\n",
    "        print(9 - im)\n",
    "    elif x>18:\n",
    "        print('tggl')\n",
    "        print(9 - im)\n",
    "    else:\n",
    "        print('youwin')\n",
    "        break\n",
    "\n",
    "\n",
    "if im >= 8:\n",
    "    print('go')"
   ]
  },
  {
   "cell_type": "code",
   "execution_count": null,
   "metadata": {},
   "outputs": [],
   "source": [
    "student = ['ram','virat','shyam']\n",
    "for students in student:\n",
    "    print('current student',students)\n",
    "print('exist')    "
   ]
  },
  {
   "cell_type": "code",
   "execution_count": 3,
   "metadata": {},
   "outputs": [
    {
     "name": "stdout",
     "output_type": "stream",
     "text": [
      "24\n"
     ]
    }
   ],
   "source": [
    "x = int(input('enter your number:-\\n'))\n",
    "a = 1\n",
    "if x<=0:\n",
    "    print('error')\n",
    "else:\n",
    "    for i in range(1,x):\n",
    "        x = x*i\n",
    "print(x)"
   ]
  },
  {
   "cell_type": "code",
   "execution_count": 2,
   "metadata": {},
   "outputs": [
    {
     "name": "stdout",
     "output_type": "stream",
     "text": [
      "Welcome to State bank of India\n",
      "Wrong pin number\n",
      "Wrong pin number\n",
      "Wrong pin number\n"
     ]
    }
   ],
   "source": [
    "# code for ATM machine\n",
    "print(\"Welcome to State bank of India\")\n",
    "money = 25000\n",
    "i = 0\n",
    "while(i<=2):\n",
    "    pin = int(input(\"Enter your 4 digit pin number: \"))\n",
    "    if(pin == 1234):\n",
    "            print(\"1-Withdraw\")\n",
    "            print(\"2-Balance Enquiry\")\n",
    "            print(\"3-Fast Cash\")\n",
    "            c = int(input(\"Please choose transactions: \"))\n",
    "            if (c == 1):\n",
    "                withdrawal = int(input(\"Enter withdraw amount: \"))\n",
    "                if (withdrawal < money and withdrawal%100 == 0):\n",
    "                    print(\"Please take your amount:\", withdrawal)\n",
    "                    break\n",
    "                else:\n",
    "                    print(\"Invalid cash\")\n",
    "                    break\n",
    "            elif(c==2):\n",
    "                print(\"Your available amount : \",money)\n",
    "                break\n",
    "            elif (c == 3):\n",
    "                print(\"1->5,000\")\n",
    "                print(\"2->10,000\")\n",
    "                print(\"3->15,000\")\n",
    "                print(\"4->20,000\")\n",
    "                f = int(input(\"Enter fast cash option: \"))\n",
    "                if (f == 1 and 5000 < money):\n",
    "                    print(\"please take cash 5000\")\n",
    "                    break\n",
    "                elif (f == 2 and 10000 < money):\n",
    "                    print(\"please take cash 10000\")\n",
    "                    break\n",
    "                elif (f == 3 and 15000 < money):\n",
    "                    print(\"please take cash 15000\")\n",
    "                    break\n",
    "                elif (f == 4 and 20000 < money):\n",
    "                    print(\"please take cash 20000\")\n",
    "                    break\n",
    "                else:\n",
    "                    print(\"Invalid fast cash option\")\n",
    "                    break\n",
    "\n",
    "            else:\n",
    "                print(\"Wrong choice\")\n",
    "    else:\n",
    "        print(\"Wrong pin number\")\n",
    "    i = i + 1"
   ]
  }
 ],
 "metadata": {
  "colab": {
   "collapsed_sections": [],
   "provenance": []
  },
  "kernelspec": {
   "display_name": "Python 3 (ipykernel)",
   "language": "python",
   "name": "python3"
  },
  "language_info": {
   "codemirror_mode": {
    "name": "ipython",
    "version": 3
   },
   "file_extension": ".py",
   "mimetype": "text/x-python",
   "name": "python",
   "nbconvert_exporter": "python",
   "pygments_lexer": "ipython3",
   "version": "3.11.0"
  }
 },
 "nbformat": 4,
 "nbformat_minor": 1
}
